{
 "cells": [
  {
   "cell_type": "markdown",
   "metadata": {},
   "source": [
    "# Robert Corbett\n",
    "\n",
    "Final Project - Token Influence on Reddit Post Poularity\n",
    "\n",
    "12/14/2017"
   ]
  },
  {
   "cell_type": "code",
   "execution_count": 82,
   "metadata": {
    "collapsed": true
   },
   "outputs": [],
   "source": [
    "import numpy as np\n",
    "import pandas as pd\n",
    "import nltk\n",
    "import json\n",
    "import matplotlib.pyplot as plt\n",
    "\n",
    "from sklearn.feature_extraction.text import CountVectorizer\n",
    "from sklearn.feature_extraction.text import TfidfTransformer\n",
    "\n",
    "from sklearn.model_selection import train_test_split\n",
    "\n",
    "from sklearn.naive_bayes import MultinomialNB\n",
    "from sklearn.metrics import confusion_matrix\n",
    "from sklearn.metrics import accuracy_score\n",
    "\n",
    "import seaborn as sns\n",
    "\n",
    "import pickle\n",
    "\n",
    "from nltk.corpus import stopwords\n",
    "stopset = set(stopwords.words('english'))\n",
    "punctset = set(['.',',','!','?','&','@','#','$','%','^','*',';',':','...','-'])\n",
    "fullset=punctset.union(stopset)"
   ]
  },
  {
   "cell_type": "code",
   "execution_count": 83,
   "metadata": {
    "collapsed": true
   },
   "outputs": [],
   "source": [
    "d = {'body':[], \n",
    "     'score':[], \n",
    "     'subreddit':[],\n",
    "     'percentile':[]\n",
    "    }"
   ]
  },
  {
   "cell_type": "code",
   "execution_count": 84,
   "metadata": {
    "collapsed": true
   },
   "outputs": [],
   "source": [
    "e = {'Android':[],\n",
    "     'boardgames':[],\n",
    "     'Conservative':[],\n",
    "     'hockey':[],\n",
    "     'Libertarian':[],\n",
    "     'neoliberal':[],\n",
    "     'politics':[],\n",
    "     'worldnews':[]\n",
    "    }"
   ]
  },
  {
   "cell_type": "code",
   "execution_count": 85,
   "metadata": {
    "collapsed": true
   },
   "outputs": [],
   "source": [
    "f = {'3':[],\n",
    "     '2':[],\n",
    "     '1':[]\n",
    "    }"
   ]
  },
  {
   "cell_type": "markdown",
   "metadata": {},
   "source": [
    "# create dataframe\n",
    "\n",
    "The following function is used to take the relevant information from the json files and create a dataframe.  Because there were so many posts, I wrote the function so that I could build smalled dataframes to test with.  "
   ]
  },
  {
   "cell_type": "code",
   "execution_count": 86,
   "metadata": {
    "collapsed": true
   },
   "outputs": [],
   "source": [
    "def reddit_df_create(sample_size, start_line, z):\n",
    "    sample = sample_size\n",
    "    start = start_line\n",
    "    num_posts=0\n",
    "    x=(1*z)*(sample*8)\n",
    "    with open('../../json_files/Android.txt', 'r') as infile:\n",
    "        y=0\n",
    "        for line in infile:\n",
    "            if(num_posts<sample and y>=start):\n",
    "                line_in = json.loads(line)\n",
    "                reddit_df.loc[x, 'body'] = line_in['body']\n",
    "                reddit_df.loc[x, 'score'] = line_in['score']\n",
    "                reddit_df.loc[x, 'subreddit'] = 'Android'\n",
    "                num_posts=num_posts+1\n",
    "                x=x+1\n",
    "            y=y+1\n",
    "            if(y>=sample+start):\n",
    "                break\n",
    "\n",
    "    with open('../../json_files/boardgames.txt', 'r') as infile:\n",
    "        y=0\n",
    "        for line in infile:\n",
    "            if(num_posts<(sample*2) and y>=start):\n",
    "                line_in = json.loads(line)\n",
    "                reddit_df.loc[x, 'body'] = line_in['body']\n",
    "                reddit_df.loc[x, 'score'] = line_in['score']\n",
    "                reddit_df.loc[x, 'subreddit'] = 'boardgames'\n",
    "                num_posts=num_posts+1\n",
    "                x=x+1\n",
    "            y=y+1\n",
    "            if(y>=sample+start):\n",
    "                break\n",
    "                \n",
    "    with open('../../json_files/Conservative.txt', 'r') as infile:\n",
    "        y=0\n",
    "        for line in infile:\n",
    "            if(num_posts<(sample*3) and y>=start):\n",
    "                line_in = json.loads(line)\n",
    "                reddit_df.loc[x, 'body'] = line_in['body']\n",
    "                reddit_df.loc[x, 'score'] = line_in['score']\n",
    "                reddit_df.loc[x, 'subreddit'] = 'Conservative'\n",
    "                num_posts=num_posts+1  \n",
    "                x=x+1\n",
    "            y=y+1\n",
    "            if(y>=sample+start):\n",
    "                break\n",
    "                \n",
    "    with open('../../json_files/hockey.txt', 'r') as infile:\n",
    "        y=0\n",
    "        for line in infile:\n",
    "            if(num_posts<(sample*4) and y>=start):\n",
    "                line_in = json.loads(line)\n",
    "                reddit_df.loc[x, 'body'] = line_in['body']\n",
    "                reddit_df.loc[x, 'score'] = line_in['score']\n",
    "                reddit_df.loc[x, 'subreddit'] = 'hockey'\n",
    "                num_posts=num_posts+1\n",
    "                x=x+1\n",
    "            y=y+1\n",
    "            if(y>=sample+start):\n",
    "                break\n",
    "                \n",
    "    with open('../../json_files/Libertarian.txt', 'r') as infile:\n",
    "        y=0\n",
    "        for line in infile:\n",
    "            if(num_posts<(sample*5) and y>=start):\n",
    "                line_in = json.loads(line)\n",
    "                reddit_df.loc[x, 'body'] = line_in['body']\n",
    "                reddit_df.loc[x, 'score'] = line_in['score']\n",
    "                reddit_df.loc[x, 'subreddit'] = 'Libertarian'\n",
    "                num_posts=num_posts+1\n",
    "                x=x+1\n",
    "            y=y+1\n",
    "            if(y>=sample+start):\n",
    "                break\n",
    "                \n",
    "    with open('../../json_files/neoliberal.txt', 'r') as infile:\n",
    "        y=0\n",
    "        for line in infile:\n",
    "            if(num_posts<(sample*6) and y>=start):\n",
    "                line_in = json.loads(line)\n",
    "                reddit_df.loc[x, 'body'] = line_in['body']\n",
    "                reddit_df.loc[x, 'score'] = line_in['score']\n",
    "                reddit_df.loc[x, 'subreddit'] = 'neoliberal'\n",
    "                num_posts=num_posts+1  \n",
    "                x=x+1\n",
    "            y=y+1\n",
    "            if(y>=sample+start):\n",
    "                break\n",
    "                \n",
    "    with open('../../json_files/politics.txt', 'r') as infile:\n",
    "        y=0\n",
    "        for line in infile:\n",
    "            if(num_posts<(sample*7) and y>=start):\n",
    "                line_in = json.loads(line)\n",
    "                reddit_df.loc[x, 'body'] = line_in['body']\n",
    "                reddit_df.loc[x, 'score'] = line_in['score']\n",
    "                reddit_df.loc[x, 'subreddit'] = 'politics'\n",
    "                num_posts=num_posts+1 \n",
    "                x=x+1\n",
    "            y=y+1\n",
    "            if(y>=sample+start):\n",
    "                break\n",
    "                \n",
    "    with open('../../json_files/worldnews.txt', 'r') as infile:\n",
    "        y=0\n",
    "        for line in infile:\n",
    "            if(num_posts<(sample*8) and y>=start):\n",
    "                line_in = json.loads(line)\n",
    "                reddit_df.loc[x, 'body'] = line_in['body']\n",
    "                reddit_df.loc[x, 'score'] = line_in['score']\n",
    "                reddit_df.loc[x, 'subreddit'] = 'worldnews'\n",
    "                num_posts=num_posts+1\n",
    "                x=x+1\n",
    "            y=y+1\n",
    "            if(y>=sample+start):\n",
    "                break"
   ]
  },
  {
   "cell_type": "markdown",
   "metadata": {},
   "source": [
    "# return highest weighted tokens\n",
    "\n",
    "The following function is used to return a dataframe with the highest weighted tokens in a classifier.  The function takes the classifier passed to it and sorts it.  It then takes the last 100 elements in the dataframe and matches those to the correct tokens in the vectorizer.  (the number of tokens returned can be easily changed)"
   ]
  },
  {
   "cell_type": "code",
   "execution_count": 87,
   "metadata": {
    "collapsed": true
   },
   "outputs": [],
   "source": [
    "def return_top100(vectorizer, clf, class_labels):\n",
    "    return_df = pd.DataFrame(data=e)\n",
    "    feature_names = vectorizer.get_feature_names()\n",
    "    for i, class_label in enumerate(class_labels):\n",
    "        top100 = np.argsort(clf.coef_[i])[-100:]\n",
    "        if(class_label=='Android'):\n",
    "            iterator = 0\n",
    "            for j in top100:\n",
    "                return_df.loc[iterator, 'Android'] = (feature_names[j])\n",
    "                iterator = iterator + 1\n",
    "        if(class_label=='boardgames'):\n",
    "            iterator = 0\n",
    "            for j in top100:\n",
    "                return_df.loc[iterator, 'boardgames'] = (feature_names[j])\n",
    "                iterator = iterator + 1\n",
    "        if(class_label=='Conservative'):\n",
    "            iterator = 0\n",
    "            for j in top100:\n",
    "                return_df.loc[iterator, 'Conservative'] = (feature_names[j])\n",
    "                iterator = iterator + 1\n",
    "        if(class_label=='hockey'):\n",
    "            iterator = 0\n",
    "            for j in top100:\n",
    "                return_df.loc[iterator, 'hockey'] = (feature_names[j])\n",
    "                iterator = iterator + 1\n",
    "        if(class_label=='Libertarian'):\n",
    "            iterator = 0\n",
    "            for j in top100:\n",
    "                return_df.loc[iterator, 'Libertarian'] = (feature_names[j])\n",
    "                iterator = iterator + 1\n",
    "        if(class_label=='neoliberal'):\n",
    "            iterator = 0\n",
    "            for j in top100:\n",
    "                return_df.loc[iterator, 'neoliberal'] = (feature_names[j])\n",
    "                iterator = iterator + 1\n",
    "        if(class_label=='politics'):\n",
    "            iterator = 0\n",
    "            for j in top100:\n",
    "                return_df.loc[iterator, 'politics'] = (feature_names[j])\n",
    "                iterator = iterator + 1\n",
    "        if(class_label=='worldnews'):\n",
    "            iterator = 0\n",
    "            for j in top100:\n",
    "                return_df.loc[iterator, 'worldnews'] = (feature_names[j])\n",
    "                iterator = iterator + 1\n",
    "    return(return_df)"
   ]
  },
  {
   "cell_type": "markdown",
   "metadata": {},
   "source": [
    "# return highest weighted tokens for score\n",
    "\n",
    "The following function is the same as the above, but is used when the model is trying to predict scores."
   ]
  },
  {
   "cell_type": "code",
   "execution_count": 88,
   "metadata": {
    "collapsed": true
   },
   "outputs": [],
   "source": [
    "def return_top100_score(vectorizer, clf, class_labels):\n",
    "    return_df = pd.DataFrame(data=f)\n",
    "    feature_names = vectorizer.get_feature_names()\n",
    "    for i, class_label in enumerate(class_labels):\n",
    "        top100 = np.argsort(clf.coef_[i])[-100:]\n",
    "        if(class_label==3):\n",
    "            iterator = 0\n",
    "            for j in top100:\n",
    "                return_df.loc[iterator, '3'] = (feature_names[j])\n",
    "                iterator = iterator + 1\n",
    "        if(class_label==2):\n",
    "            iterator = 0\n",
    "            for j in top100:\n",
    "                return_df.loc[iterator, '2'] = (feature_names[j])\n",
    "                iterator = iterator + 1\n",
    "        if(class_label==1):\n",
    "            iterator = 0\n",
    "            for j in top100:\n",
    "                return_df.loc[iterator, '1'] = (feature_names[j])\n",
    "                iterator = iterator + 1\n",
    "    return(return_df)"
   ]
  },
  {
   "cell_type": "markdown",
   "metadata": {},
   "source": [
    "# variables to build dataframe\n",
    "\n",
    "I used these variables to change how many posts to retreive to test with and how many to retrieve at a time.  For the final test, both were set to 50,000 so that all 50,000 posts in each subreddit would be included in the dataframe. (400,000 total posts)"
   ]
  },
  {
   "cell_type": "code",
   "execution_count": 89,
   "metadata": {
    "collapsed": true
   },
   "outputs": [],
   "source": [
    "num_retreive=50000\n",
    "tot_num_posts=50000"
   ]
  },
  {
   "cell_type": "code",
   "execution_count": 90,
   "metadata": {
    "collapsed": true
   },
   "outputs": [],
   "source": [
    "reddit_df = pd.DataFrame(data=d)"
   ]
  },
  {
   "cell_type": "markdown",
   "metadata": {},
   "source": [
    "# first model\n",
    "\n",
    "The model below calls reddit_df_create, it is the only time it is called in this notebook and that dataframe is used for the rest of the program.  This call takes the most time of any part of the program.  It than creates a multinomialNB model with the dataframe. I used the nltk word tokenizer to tokenize the post bodies. The min token frequency is 16.  I excluded my fullset, which is the union of the nltk english stopwords and a set of punctuation I defined in the first box with the import statements.  The data is split 80% train 20% test.  The model is trying to predict which subreddit the test post is from.  The accuracy when the model used 320,000 posts to test ended up being 69.5%.  this accuracy doesn't seem too bad when it is taken into consideration that the model had 8 targets to choose from and many of them were chosen because they have similar topics."
   ]
  },
  {
   "cell_type": "code",
   "execution_count": 91,
   "metadata": {},
   "outputs": [
    {
     "name": "stdout",
     "output_type": "stream",
     "text": [
      "1\n"
     ]
    },
    {
     "ename": "KeyboardInterrupt",
     "evalue": "",
     "output_type": "error",
     "traceback": [
      "\u001b[1;31m---------------------------------------------------------------------------\u001b[0m",
      "\u001b[1;31mKeyboardInterrupt\u001b[0m                         Traceback (most recent call last)",
      "\u001b[1;32m<ipython-input-91-67135f9db52d>\u001b[0m in \u001b[0;36m<module>\u001b[1;34m()\u001b[0m\n\u001b[0;32m      9\u001b[0m     \u001b[0mprint\u001b[0m\u001b[1;33m(\u001b[0m\u001b[0miterator\u001b[0m\u001b[1;33m)\u001b[0m\u001b[1;33m\u001b[0m\u001b[0m\n\u001b[0;32m     10\u001b[0m     \u001b[1;31m#start=start+num_retreive\u001b[0m\u001b[1;33m\u001b[0m\u001b[1;33m\u001b[0m\u001b[0m\n\u001b[1;32m---> 11\u001b[1;33m     \u001b[0mreddit_df_create\u001b[0m\u001b[1;33m(\u001b[0m\u001b[0mnum_retreive\u001b[0m\u001b[1;33m,\u001b[0m \u001b[0mstart\u001b[0m\u001b[1;33m,\u001b[0m \u001b[0mz\u001b[0m\u001b[1;33m)\u001b[0m\u001b[1;33m\u001b[0m\u001b[0m\n\u001b[0m\u001b[0;32m     12\u001b[0m     \u001b[0my\u001b[0m \u001b[1;33m=\u001b[0m \u001b[0mreddit_df\u001b[0m\u001b[1;33m[\u001b[0m\u001b[1;34m'subreddit'\u001b[0m\u001b[1;33m]\u001b[0m\u001b[1;33m\u001b[0m\u001b[0m\n\u001b[0;32m     13\u001b[0m \u001b[1;33m\u001b[0m\u001b[0m\n",
      "\u001b[1;32m<ipython-input-86-79808f686523>\u001b[0m in \u001b[0;36mreddit_df_create\u001b[1;34m(sample_size, start_line, z)\u001b[0m\n\u001b[0;32m      9\u001b[0m             \u001b[1;32mif\u001b[0m\u001b[1;33m(\u001b[0m\u001b[0mnum_posts\u001b[0m\u001b[1;33m<\u001b[0m\u001b[0msample\u001b[0m \u001b[1;32mand\u001b[0m \u001b[0my\u001b[0m\u001b[1;33m>=\u001b[0m\u001b[0mstart\u001b[0m\u001b[1;33m)\u001b[0m\u001b[1;33m:\u001b[0m\u001b[1;33m\u001b[0m\u001b[0m\n\u001b[0;32m     10\u001b[0m                 \u001b[0mline_in\u001b[0m \u001b[1;33m=\u001b[0m \u001b[0mjson\u001b[0m\u001b[1;33m.\u001b[0m\u001b[0mloads\u001b[0m\u001b[1;33m(\u001b[0m\u001b[0mline\u001b[0m\u001b[1;33m)\u001b[0m\u001b[1;33m\u001b[0m\u001b[0m\n\u001b[1;32m---> 11\u001b[1;33m                 \u001b[0mreddit_df\u001b[0m\u001b[1;33m.\u001b[0m\u001b[0mloc\u001b[0m\u001b[1;33m[\u001b[0m\u001b[0mx\u001b[0m\u001b[1;33m,\u001b[0m \u001b[1;34m'body'\u001b[0m\u001b[1;33m]\u001b[0m \u001b[1;33m=\u001b[0m \u001b[0mline_in\u001b[0m\u001b[1;33m[\u001b[0m\u001b[1;34m'body'\u001b[0m\u001b[1;33m]\u001b[0m\u001b[1;33m\u001b[0m\u001b[0m\n\u001b[0m\u001b[0;32m     12\u001b[0m                 \u001b[0mreddit_df\u001b[0m\u001b[1;33m.\u001b[0m\u001b[0mloc\u001b[0m\u001b[1;33m[\u001b[0m\u001b[0mx\u001b[0m\u001b[1;33m,\u001b[0m \u001b[1;34m'score'\u001b[0m\u001b[1;33m]\u001b[0m \u001b[1;33m=\u001b[0m \u001b[0mline_in\u001b[0m\u001b[1;33m[\u001b[0m\u001b[1;34m'score'\u001b[0m\u001b[1;33m]\u001b[0m\u001b[1;33m\u001b[0m\u001b[0m\n\u001b[0;32m     13\u001b[0m                 \u001b[0mreddit_df\u001b[0m\u001b[1;33m.\u001b[0m\u001b[0mloc\u001b[0m\u001b[1;33m[\u001b[0m\u001b[0mx\u001b[0m\u001b[1;33m,\u001b[0m \u001b[1;34m'subreddit'\u001b[0m\u001b[1;33m]\u001b[0m \u001b[1;33m=\u001b[0m \u001b[1;34m'Android'\u001b[0m\u001b[1;33m\u001b[0m\u001b[0m\n",
      "\u001b[1;32m~\\Anaconda3\\lib\\site-packages\\pandas\\core\\indexing.py\u001b[0m in \u001b[0;36m__setitem__\u001b[1;34m(self, key, value)\u001b[0m\n\u001b[0;32m    177\u001b[0m             \u001b[0mkey\u001b[0m \u001b[1;33m=\u001b[0m \u001b[0mcom\u001b[0m\u001b[1;33m.\u001b[0m\u001b[0m_apply_if_callable\u001b[0m\u001b[1;33m(\u001b[0m\u001b[0mkey\u001b[0m\u001b[1;33m,\u001b[0m \u001b[0mself\u001b[0m\u001b[1;33m.\u001b[0m\u001b[0mobj\u001b[0m\u001b[1;33m)\u001b[0m\u001b[1;33m\u001b[0m\u001b[0m\n\u001b[0;32m    178\u001b[0m         \u001b[0mindexer\u001b[0m \u001b[1;33m=\u001b[0m \u001b[0mself\u001b[0m\u001b[1;33m.\u001b[0m\u001b[0m_get_setitem_indexer\u001b[0m\u001b[1;33m(\u001b[0m\u001b[0mkey\u001b[0m\u001b[1;33m)\u001b[0m\u001b[1;33m\u001b[0m\u001b[0m\n\u001b[1;32m--> 179\u001b[1;33m         \u001b[0mself\u001b[0m\u001b[1;33m.\u001b[0m\u001b[0m_setitem_with_indexer\u001b[0m\u001b[1;33m(\u001b[0m\u001b[0mindexer\u001b[0m\u001b[1;33m,\u001b[0m \u001b[0mvalue\u001b[0m\u001b[1;33m)\u001b[0m\u001b[1;33m\u001b[0m\u001b[0m\n\u001b[0m\u001b[0;32m    180\u001b[0m \u001b[1;33m\u001b[0m\u001b[0m\n\u001b[0;32m    181\u001b[0m     \u001b[1;32mdef\u001b[0m \u001b[0m_has_valid_type\u001b[0m\u001b[1;33m(\u001b[0m\u001b[0mself\u001b[0m\u001b[1;33m,\u001b[0m \u001b[0mk\u001b[0m\u001b[1;33m,\u001b[0m \u001b[0maxis\u001b[0m\u001b[1;33m)\u001b[0m\u001b[1;33m:\u001b[0m\u001b[1;33m\u001b[0m\u001b[0m\n",
      "\u001b[1;32m~\\Anaconda3\\lib\\site-packages\\pandas\\core\\indexing.py\u001b[0m in \u001b[0;36m_setitem_with_indexer\u001b[1;34m(self, indexer, value)\u001b[0m\n\u001b[0;32m    349\u001b[0m                     \u001b[0mindex\u001b[0m \u001b[1;33m=\u001b[0m \u001b[0mself\u001b[0m\u001b[1;33m.\u001b[0m\u001b[0mobj\u001b[0m\u001b[1;33m.\u001b[0m\u001b[0m_get_axis\u001b[0m\u001b[1;33m(\u001b[0m\u001b[0mi\u001b[0m\u001b[1;33m)\u001b[0m\u001b[1;33m\u001b[0m\u001b[0m\n\u001b[0;32m    350\u001b[0m                     \u001b[0mlabels\u001b[0m \u001b[1;33m=\u001b[0m \u001b[0mindex\u001b[0m\u001b[1;33m.\u001b[0m\u001b[0minsert\u001b[0m\u001b[1;33m(\u001b[0m\u001b[0mlen\u001b[0m\u001b[1;33m(\u001b[0m\u001b[0mindex\u001b[0m\u001b[1;33m)\u001b[0m\u001b[1;33m,\u001b[0m \u001b[0mkey\u001b[0m\u001b[1;33m)\u001b[0m\u001b[1;33m\u001b[0m\u001b[0m\n\u001b[1;32m--> 351\u001b[1;33m                     \u001b[0mself\u001b[0m\u001b[1;33m.\u001b[0m\u001b[0mobj\u001b[0m\u001b[1;33m.\u001b[0m\u001b[0m_data\u001b[0m \u001b[1;33m=\u001b[0m \u001b[0mself\u001b[0m\u001b[1;33m.\u001b[0m\u001b[0mobj\u001b[0m\u001b[1;33m.\u001b[0m\u001b[0mreindex_axis\u001b[0m\u001b[1;33m(\u001b[0m\u001b[0mlabels\u001b[0m\u001b[1;33m,\u001b[0m \u001b[0mi\u001b[0m\u001b[1;33m)\u001b[0m\u001b[1;33m.\u001b[0m\u001b[0m_data\u001b[0m\u001b[1;33m\u001b[0m\u001b[0m\n\u001b[0m\u001b[0;32m    352\u001b[0m                     \u001b[0mself\u001b[0m\u001b[1;33m.\u001b[0m\u001b[0mobj\u001b[0m\u001b[1;33m.\u001b[0m\u001b[0m_maybe_update_cacher\u001b[0m\u001b[1;33m(\u001b[0m\u001b[0mclear\u001b[0m\u001b[1;33m=\u001b[0m\u001b[1;32mTrue\u001b[0m\u001b[1;33m)\u001b[0m\u001b[1;33m\u001b[0m\u001b[0m\n\u001b[0;32m    353\u001b[0m                     \u001b[0mself\u001b[0m\u001b[1;33m.\u001b[0m\u001b[0mobj\u001b[0m\u001b[1;33m.\u001b[0m\u001b[0mis_copy\u001b[0m \u001b[1;33m=\u001b[0m \u001b[1;32mNone\u001b[0m\u001b[1;33m\u001b[0m\u001b[0m\n",
      "\u001b[1;32m~\\Anaconda3\\lib\\site-packages\\pandas\\core\\frame.py\u001b[0m in \u001b[0;36mreindex_axis\u001b[1;34m(self, labels, axis, method, level, copy, limit, fill_value)\u001b[0m\n\u001b[0;32m   2837\u001b[0m                      \u001b[0mself\u001b[0m\u001b[1;33m)\u001b[0m\u001b[1;33m.\u001b[0m\u001b[0mreindex_axis\u001b[0m\u001b[1;33m(\u001b[0m\u001b[0mlabels\u001b[0m\u001b[1;33m=\u001b[0m\u001b[0mlabels\u001b[0m\u001b[1;33m,\u001b[0m \u001b[0maxis\u001b[0m\u001b[1;33m=\u001b[0m\u001b[0maxis\u001b[0m\u001b[1;33m,\u001b[0m\u001b[1;33m\u001b[0m\u001b[0m\n\u001b[0;32m   2838\u001b[0m                                         \u001b[0mmethod\u001b[0m\u001b[1;33m=\u001b[0m\u001b[0mmethod\u001b[0m\u001b[1;33m,\u001b[0m \u001b[0mlevel\u001b[0m\u001b[1;33m=\u001b[0m\u001b[0mlevel\u001b[0m\u001b[1;33m,\u001b[0m \u001b[0mcopy\u001b[0m\u001b[1;33m=\u001b[0m\u001b[0mcopy\u001b[0m\u001b[1;33m,\u001b[0m\u001b[1;33m\u001b[0m\u001b[0m\n\u001b[1;32m-> 2839\u001b[1;33m                                         limit=limit, fill_value=fill_value)\n\u001b[0m\u001b[0;32m   2840\u001b[0m \u001b[1;33m\u001b[0m\u001b[0m\n\u001b[0;32m   2841\u001b[0m     \u001b[1;33m@\u001b[0m\u001b[0mAppender\u001b[0m\u001b[1;33m(\u001b[0m\u001b[0m_shared_docs\u001b[0m\u001b[1;33m[\u001b[0m\u001b[1;34m'rename'\u001b[0m\u001b[1;33m]\u001b[0m \u001b[1;33m%\u001b[0m \u001b[0m_shared_doc_kwargs\u001b[0m\u001b[1;33m)\u001b[0m\u001b[1;33m\u001b[0m\u001b[0m\n",
      "\u001b[1;32m~\\Anaconda3\\lib\\site-packages\\pandas\\core\\generic.py\u001b[0m in \u001b[0;36mreindex_axis\u001b[1;34m(self, labels, axis, method, level, copy, limit, fill_value)\u001b[0m\n\u001b[0;32m   2491\u001b[0m                                                  limit=limit)\n\u001b[0;32m   2492\u001b[0m         return self._reindex_with_indexers({axis: [new_index, indexer]},\n\u001b[1;32m-> 2493\u001b[1;33m                                            fill_value=fill_value, copy=copy)\n\u001b[0m\u001b[0;32m   2494\u001b[0m \u001b[1;33m\u001b[0m\u001b[0m\n\u001b[0;32m   2495\u001b[0m     def _reindex_with_indexers(self, reindexers, fill_value=np.nan, copy=False,\n",
      "\u001b[1;32m~\\Anaconda3\\lib\\site-packages\\pandas\\core\\generic.py\u001b[0m in \u001b[0;36m_reindex_with_indexers\u001b[1;34m(self, reindexers, fill_value, copy, allow_dups)\u001b[0m\n\u001b[0;32m   2514\u001b[0m                                                 \u001b[0mfill_value\u001b[0m\u001b[1;33m=\u001b[0m\u001b[0mfill_value\u001b[0m\u001b[1;33m,\u001b[0m\u001b[1;33m\u001b[0m\u001b[0m\n\u001b[0;32m   2515\u001b[0m                                                 \u001b[0mallow_dups\u001b[0m\u001b[1;33m=\u001b[0m\u001b[0mallow_dups\u001b[0m\u001b[1;33m,\u001b[0m\u001b[1;33m\u001b[0m\u001b[0m\n\u001b[1;32m-> 2516\u001b[1;33m                                                 copy=copy)\n\u001b[0m\u001b[0;32m   2517\u001b[0m \u001b[1;33m\u001b[0m\u001b[0m\n\u001b[0;32m   2518\u001b[0m         \u001b[1;32mif\u001b[0m \u001b[0mcopy\u001b[0m \u001b[1;32mand\u001b[0m \u001b[0mnew_data\u001b[0m \u001b[1;32mis\u001b[0m \u001b[0mself\u001b[0m\u001b[1;33m.\u001b[0m\u001b[0m_data\u001b[0m\u001b[1;33m:\u001b[0m\u001b[1;33m\u001b[0m\u001b[0m\n",
      "\u001b[1;32m~\\Anaconda3\\lib\\site-packages\\pandas\\core\\internals.py\u001b[0m in \u001b[0;36mreindex_indexer\u001b[1;34m(self, new_axis, indexer, axis, fill_value, allow_dups, copy)\u001b[0m\n\u001b[0;32m   3895\u001b[0m             new_blocks = [blk.take_nd(indexer, axis=axis, fill_tuple=(\n\u001b[0;32m   3896\u001b[0m                 fill_value if fill_value is not None else blk.fill_value,))\n\u001b[1;32m-> 3897\u001b[1;33m                 for blk in self.blocks]\n\u001b[0m\u001b[0;32m   3898\u001b[0m \u001b[1;33m\u001b[0m\u001b[0m\n\u001b[0;32m   3899\u001b[0m         \u001b[0mnew_axes\u001b[0m \u001b[1;33m=\u001b[0m \u001b[0mlist\u001b[0m\u001b[1;33m(\u001b[0m\u001b[0mself\u001b[0m\u001b[1;33m.\u001b[0m\u001b[0maxes\u001b[0m\u001b[1;33m)\u001b[0m\u001b[1;33m\u001b[0m\u001b[0m\n",
      "\u001b[1;32m~\\Anaconda3\\lib\\site-packages\\pandas\\core\\internals.py\u001b[0m in \u001b[0;36m<listcomp>\u001b[1;34m(.0)\u001b[0m\n\u001b[0;32m   3895\u001b[0m             new_blocks = [blk.take_nd(indexer, axis=axis, fill_tuple=(\n\u001b[0;32m   3896\u001b[0m                 fill_value if fill_value is not None else blk.fill_value,))\n\u001b[1;32m-> 3897\u001b[1;33m                 for blk in self.blocks]\n\u001b[0m\u001b[0;32m   3898\u001b[0m \u001b[1;33m\u001b[0m\u001b[0m\n\u001b[0;32m   3899\u001b[0m         \u001b[0mnew_axes\u001b[0m \u001b[1;33m=\u001b[0m \u001b[0mlist\u001b[0m\u001b[1;33m(\u001b[0m\u001b[0mself\u001b[0m\u001b[1;33m.\u001b[0m\u001b[0maxes\u001b[0m\u001b[1;33m)\u001b[0m\u001b[1;33m\u001b[0m\u001b[0m\n",
      "\u001b[1;32m~\\Anaconda3\\lib\\site-packages\\pandas\\core\\internals.py\u001b[0m in \u001b[0;36mtake_nd\u001b[1;34m(self, indexer, axis, new_mgr_locs, fill_tuple)\u001b[0m\n\u001b[0;32m   1044\u001b[0m             \u001b[0mfill_value\u001b[0m \u001b[1;33m=\u001b[0m \u001b[0mfill_tuple\u001b[0m\u001b[1;33m[\u001b[0m\u001b[1;36m0\u001b[0m\u001b[1;33m]\u001b[0m\u001b[1;33m\u001b[0m\u001b[0m\n\u001b[0;32m   1045\u001b[0m             new_values = algos.take_nd(values, indexer, axis=axis,\n\u001b[1;32m-> 1046\u001b[1;33m                                        allow_fill=True, fill_value=fill_value)\n\u001b[0m\u001b[0;32m   1047\u001b[0m \u001b[1;33m\u001b[0m\u001b[0m\n\u001b[0;32m   1048\u001b[0m         \u001b[1;32mif\u001b[0m \u001b[0mnew_mgr_locs\u001b[0m \u001b[1;32mis\u001b[0m \u001b[1;32mNone\u001b[0m\u001b[1;33m:\u001b[0m\u001b[1;33m\u001b[0m\u001b[0m\n",
      "\u001b[1;32m~\\Anaconda3\\lib\\site-packages\\pandas\\core\\algorithms.py\u001b[0m in \u001b[0;36mtake_nd\u001b[1;34m(arr, indexer, axis, out, fill_value, mask_info, allow_fill)\u001b[0m\n\u001b[0;32m   1460\u001b[0m             \u001b[0mout\u001b[0m \u001b[1;33m=\u001b[0m \u001b[0mnp\u001b[0m\u001b[1;33m.\u001b[0m\u001b[0mempty\u001b[0m\u001b[1;33m(\u001b[0m\u001b[0mout_shape\u001b[0m\u001b[1;33m,\u001b[0m \u001b[0mdtype\u001b[0m\u001b[1;33m=\u001b[0m\u001b[0mdtype\u001b[0m\u001b[1;33m,\u001b[0m \u001b[0morder\u001b[0m\u001b[1;33m=\u001b[0m\u001b[1;34m'F'\u001b[0m\u001b[1;33m)\u001b[0m\u001b[1;33m\u001b[0m\u001b[0m\n\u001b[0;32m   1461\u001b[0m         \u001b[1;32melse\u001b[0m\u001b[1;33m:\u001b[0m\u001b[1;33m\u001b[0m\u001b[0m\n\u001b[1;32m-> 1462\u001b[1;33m             \u001b[0mout\u001b[0m \u001b[1;33m=\u001b[0m \u001b[0mnp\u001b[0m\u001b[1;33m.\u001b[0m\u001b[0mempty\u001b[0m\u001b[1;33m(\u001b[0m\u001b[0mout_shape\u001b[0m\u001b[1;33m,\u001b[0m \u001b[0mdtype\u001b[0m\u001b[1;33m=\u001b[0m\u001b[0mdtype\u001b[0m\u001b[1;33m)\u001b[0m\u001b[1;33m\u001b[0m\u001b[0m\n\u001b[0m\u001b[0;32m   1463\u001b[0m \u001b[1;33m\u001b[0m\u001b[0m\n\u001b[0;32m   1464\u001b[0m     func = _get_take_nd_function(arr.ndim, arr.dtype, out.dtype, axis=axis,\n",
      "\u001b[1;31mKeyboardInterrupt\u001b[0m: "
     ]
    }
   ],
   "source": [
    "reddit_vec = CountVectorizer(min_df=16, tokenizer=nltk.word_tokenize, lowercase=True, stop_words=fullset)\n",
    "\n",
    "z=0\n",
    "start=0\n",
    "iterator=0\n",
    "while(iterator<(tot_num_posts/num_retreive)):\n",
    "\n",
    "    iterator=iterator+1\n",
    "    print(iterator)\n",
    "    #start=start+num_retreive\n",
    "    reddit_df_create(num_retreive, start, z)\n",
    "    y = reddit_df['subreddit']\n",
    "    \n",
    "    reddit_counts = reddit_vec.fit_transform(reddit_df['body'])\n",
    "    tfidf_transformer = TfidfTransformer()\n",
    "    reddit_tfidf = tfidf_transformer.fit_transform(reddit_counts)\n",
    "\n",
    "    X = reddit_tfidf\n",
    "\n",
    "    X_train, X_test, y_train, y_test = train_test_split(X, y, test_size = 0.2, random_state = 0)\n",
    "    \n",
    "    classifier = MultinomialNB().partial_fit(X_train, y_train,classes=np.unique(y_train))\n",
    "    \n",
    "    y_pred = classifier.predict(X_test)\n",
    "\n",
    "    print(accuracy_score(y_test, y_pred))"
   ]
  },
  {
   "cell_type": "markdown",
   "metadata": {},
   "source": [
    "# top 100 tokens for each subreddit\n",
    "\n",
    "Below, I call return_top100 of the classifier and vectorizer and display the returned dataframe.  Each column has the 100 highest weighted tokens for each subreddit. Then I saved the dataframe as a csv file."
   ]
  },
  {
   "cell_type": "code",
   "execution_count": null,
   "metadata": {
    "scrolled": false
   },
   "outputs": [],
   "source": [
    "temp_df = return_top100(reddit_vec, classifier, class_labels=np.unique(y_train))\n",
    "temp_df"
   ]
  },
  {
   "cell_type": "code",
   "execution_count": null,
   "metadata": {},
   "outputs": [],
   "source": [
    "temp_df.to_csv(\"csv_files\\\\reddit_top_unigrams.csv\")"
   ]
  },
  {
   "cell_type": "markdown",
   "metadata": {},
   "source": [
    "# heatmap for previous model\n",
    "\n",
    "The heatmap for the previous model looks pretty good.  The control subreddits (hockye, boardgames and Android) are very well defined.  The confusion occurs around the political posts, which would be expected since they would be talking about very similar topics.  "
   ]
  },
  {
   "cell_type": "code",
   "execution_count": null,
   "metadata": {
    "scrolled": true
   },
   "outputs": [],
   "source": [
    "cm = confusion_matrix(y_test, y_pred)\n",
    "\n",
    "sns.heatmap(cm.T, square=True, annot=True, fmt='d', cbar=False,\n",
    "            xticklabels=['Android','Conservative','Libertarian','boardgames','hockey','neoliberal','politics','worldnews'], \n",
    "            yticklabels=['Android','Conservative','Libertarian','boardgames','hockey','neoliberal','politics','worldnews'])\n",
    "plt.xlabel('true label')\n",
    "plt.ylabel('predicted label')\n",
    "plt.show()"
   ]
  },
  {
   "cell_type": "markdown",
   "metadata": {},
   "source": [
    "# repeat above model with bigrams\n",
    "\n",
    "The next couple blocks, I did the same as above but with bigrams.  I did not recreate the large subreddit_df though, I was able to reuse that dataframe through the rest of the program."
   ]
  },
  {
   "cell_type": "code",
   "execution_count": null,
   "metadata": {},
   "outputs": [],
   "source": [
    "reddit_vec = CountVectorizer(ngram_range=(2,2),min_df=16, lowercase=True, tokenizer=nltk.word_tokenize,stop_words=fullset)\n",
    "z=0\n",
    "start=0\n",
    "iterator=0\n",
    "while(iterator<1):\n",
    "\n",
    "    iterator=iterator+1\n",
    "    print(iterator)\n",
    "    start=start+num_retreive\n",
    "\n",
    "    y = reddit_df['subreddit']\n",
    "    \n",
    "    reddit_counts = reddit_vec.fit_transform(reddit_df['body'])\n",
    "    tfidf_transformer = TfidfTransformer()\n",
    "    reddit_tfidf = tfidf_transformer.fit_transform(reddit_counts)\n",
    "\n",
    "    X = reddit_tfidf\n",
    "\n",
    "    X_train, X_test, y_train, y_test = train_test_split(X, y, test_size = 0.2, random_state = 0)\n",
    "    \n",
    "    classifier = MultinomialNB().partial_fit(X_train, y_train,classes=np.unique(y_train))\n",
    "    \n",
    "    y_pred = classifier.predict(X_test)\n",
    "\n",
    "    print(accuracy_score(y_test, y_pred))"
   ]
  },
  {
   "cell_type": "markdown",
   "metadata": {},
   "source": [
    "# accuracy\n",
    "\n",
    "As you can see above, the accuracy for this model is not as good as the unigram model.  the unigram had an accuracy of 69.5% while this model only has 60.9%."
   ]
  },
  {
   "cell_type": "code",
   "execution_count": null,
   "metadata": {
    "scrolled": true
   },
   "outputs": [],
   "source": [
    "top_100_bi_nsandnp = return_top100(reddit_vec, classifier, class_labels=np.unique(y_train))\n",
    "top_100_bi_nsandnp"
   ]
  },
  {
   "cell_type": "markdown",
   "metadata": {},
   "source": [
    "# save csv file\n",
    "\n",
    "I save the dataframe as a csv file.  While adding the markdown file, I accidently ran the above box again and had to quit it so is looks like it wasn't run.  "
   ]
  },
  {
   "cell_type": "code",
   "execution_count": 18,
   "metadata": {},
   "outputs": [],
   "source": [
    "top_100_bi_nsandnp.to_csv(\"csv_files\\\\reddit_top_bigrams.csv\")"
   ]
  },
  {
   "cell_type": "markdown",
   "metadata": {},
   "source": [
    "# heatmap\n",
    "\n",
    "heatmap looks similar to the other model.  The confusion is still happening in the same areas."
   ]
  },
  {
   "cell_type": "code",
   "execution_count": 19,
   "metadata": {
    "scrolled": true
   },
   "outputs": [
    {
     "data": {
      "image/png": "[encoded data removed]",
      "text/plain": [
       "<matplotlib.figure.Figure at 0x67b2384278>"
      ]
     },
     "metadata": {},
     "output_type": "display_data"
    }
   ],
   "source": [
    "cm = confusion_matrix(y_test, y_pred)\n",
    "\n",
    "sns.heatmap(cm.T, square=True, annot=True, fmt='d', cbar=False,\n",
    "            xticklabels=['Android','Conservative','Libertarian','boardgames','hockey','neoliberal','politics','worldnews'], \n",
    "            yticklabels=['Android','Conservative','Libertarian','boardgames','hockey','neoliberal','politics','worldnews'])\n",
    "plt.xlabel('true label')\n",
    "plt.ylabel('predicted label')\n",
    "plt.show()"
   ]
  },
  {
   "cell_type": "markdown",
   "metadata": {},
   "source": [
    "# explore the posts scores\n",
    "\n",
    "I printed the mean, max and min for all of the scores in the reddit_df.  As you can see, the values are spread accross a very large margin (-274 to 17,193) but the mean is rather low (only about 9).  I wanted to find a way to split the posts by score so that I would have the same number of posts in each group.  I began by trying to split by percentile, but that did not work as well as I had hoped (the column is still named percentile).  The solution I came up with is much simpler.  I seperated the reddit_df into 8 smaller dataframes, 1 for each subreddit represented.  I then sorted them and split them into thirds."
   ]
  },
  {
   "cell_type": "code",
   "execution_count": 20,
   "metadata": {
    "scrolled": true
   },
   "outputs": [
    {
     "name": "stdout",
     "output_type": "stream",
     "text": [
      "8.9692925\n",
      "17193.0\n",
      "-274.0\n"
     ]
    }
   ],
   "source": [
    "print(reddit_df['score'].mean())\n",
    "print(reddit_df['score'].max())\n",
    "print(reddit_df['score'].min())"
   ]
  },
  {
   "cell_type": "code",
   "execution_count": 21,
   "metadata": {
    "collapsed": true
   },
   "outputs": [],
   "source": [
    "Android_df = reddit_df[reddit_df.subreddit == 'Android']"
   ]
  },
  {
   "cell_type": "code",
   "execution_count": 22,
   "metadata": {
    "collapsed": true
   },
   "outputs": [],
   "source": [
    "Android_df = Android_df.sort_values(['score'])"
   ]
  },
  {
   "cell_type": "code",
   "execution_count": 23,
   "metadata": {
    "scrolled": false
   },
   "outputs": [
    {
     "data": {
      "text/html": [
       "<div>\n",
       "<style>\n",
       "    .dataframe thead tr:only-child th {\n",
       "        text-align: right;\n",
       "    }\n",
       "\n",
       "    .dataframe thead th {\n",
       "        text-align: left;\n",
       "    }\n",
       "\n",
       "    .dataframe tbody tr th {\n",
       "        vertical-align: top;\n",
       "    }\n",
       "</style>\n",
       "<table border=\"1\" class=\"dataframe\">\n",
       "  <thead>\n",
       "    <tr style=\"text-align: right;\">\n",
       "      <th></th>\n",
       "      <th>body</th>\n",
       "      <th>percentile</th>\n",
       "      <th>score</th>\n",
       "      <th>subreddit</th>\n",
       "    </tr>\n",
       "  </thead>\n",
       "  <tbody>\n",
       "    <tr>\n",
       "      <th>10040</th>\n",
       "      <td>1. First world problems 2. If it is that incon...</td>\n",
       "      <td>NaN</td>\n",
       "      <td>-260.0</td>\n",
       "      <td>Android</td>\n",
       "    </tr>\n",
       "    <tr>\n",
       "      <th>49434</th>\n",
       "      <td>&amp;gt;In India whenever there is any conflict, t...</td>\n",
       "      <td>NaN</td>\n",
       "      <td>-90.0</td>\n",
       "      <td>Android</td>\n",
       "    </tr>\n",
       "    <tr>\n",
       "      <th>4665</th>\n",
       "      <td>Oh, yeah? In what way this cheap peace of Chin...</td>\n",
       "      <td>NaN</td>\n",
       "      <td>-79.0</td>\n",
       "      <td>Android</td>\n",
       "    </tr>\n",
       "    <tr>\n",
       "      <th>4155</th>\n",
       "      <td>I can't stand spongebob memes. Maybe because I...</td>\n",
       "      <td>NaN</td>\n",
       "      <td>-78.0</td>\n",
       "      <td>Android</td>\n",
       "    </tr>\n",
       "    <tr>\n",
       "      <th>3588</th>\n",
       "      <td>All OLEDs are trash. Can't believe people stil...</td>\n",
       "      <td>NaN</td>\n",
       "      <td>-71.0</td>\n",
       "      <td>Android</td>\n",
       "    </tr>\n",
       "    <tr>\n",
       "      <th>12785</th>\n",
       "      <td>Google as a whole is a garbage company. They'v...</td>\n",
       "      <td>NaN</td>\n",
       "      <td>-69.0</td>\n",
       "      <td>Android</td>\n",
       "    </tr>\n",
       "    <tr>\n",
       "      <th>13705</th>\n",
       "      <td>Or...I don't know....quit relying on cellular ...</td>\n",
       "      <td>NaN</td>\n",
       "      <td>-68.0</td>\n",
       "      <td>Android</td>\n",
       "    </tr>\n",
       "    <tr>\n",
       "      <th>33143</th>\n",
       "      <td>Having a headphone jack has nothing to do with...</td>\n",
       "      <td>NaN</td>\n",
       "      <td>-62.0</td>\n",
       "      <td>Android</td>\n",
       "    </tr>\n",
       "    <tr>\n",
       "      <th>17144</th>\n",
       "      <td>No root required for theming, but now you have...</td>\n",
       "      <td>NaN</td>\n",
       "      <td>-60.0</td>\n",
       "      <td>Android</td>\n",
       "    </tr>\n",
       "    <tr>\n",
       "      <th>36153</th>\n",
       "      <td>Being a techy is absolutely no reason to buy a...</td>\n",
       "      <td>NaN</td>\n",
       "      <td>-57.0</td>\n",
       "      <td>Android</td>\n",
       "    </tr>\n",
       "    <tr>\n",
       "      <th>5437</th>\n",
       "      <td>So if I search for \"brain blocks\", a game call...</td>\n",
       "      <td>NaN</td>\n",
       "      <td>-57.0</td>\n",
       "      <td>Android</td>\n",
       "    </tr>\n",
       "    <tr>\n",
       "      <th>44594</th>\n",
       "      <td>The difference is that Google makes Android an...</td>\n",
       "      <td>NaN</td>\n",
       "      <td>-56.0</td>\n",
       "      <td>Android</td>\n",
       "    </tr>\n",
       "    <tr>\n",
       "      <th>14156</th>\n",
       "      <td>Tell that to everyone who has been getting alo...</td>\n",
       "      <td>NaN</td>\n",
       "      <td>-54.0</td>\n",
       "      <td>Android</td>\n",
       "    </tr>\n",
       "    <tr>\n",
       "      <th>11253</th>\n",
       "      <td>I gotta say, if I saw this on a spec sheet wit...</td>\n",
       "      <td>NaN</td>\n",
       "      <td>-54.0</td>\n",
       "      <td>Android</td>\n",
       "    </tr>\n",
       "    <tr>\n",
       "      <th>31217</th>\n",
       "      <td>I wouldn’t worry too much about it.  Samsung l...</td>\n",
       "      <td>NaN</td>\n",
       "      <td>-48.0</td>\n",
       "      <td>Android</td>\n",
       "    </tr>\n",
       "    <tr>\n",
       "      <th>33591</th>\n",
       "      <td>Omg shut up. Many of us have been using since ...</td>\n",
       "      <td>NaN</td>\n",
       "      <td>-48.0</td>\n",
       "      <td>Android</td>\n",
       "    </tr>\n",
       "    <tr>\n",
       "      <th>49801</th>\n",
       "      <td>&amp;gt; Then there is the question of size: only ...</td>\n",
       "      <td>NaN</td>\n",
       "      <td>-48.0</td>\n",
       "      <td>Android</td>\n",
       "    </tr>\n",
       "    <tr>\n",
       "      <th>29820</th>\n",
       "      <td>I wouldn’t worry too much about it.  Samsung l...</td>\n",
       "      <td>NaN</td>\n",
       "      <td>-47.0</td>\n",
       "      <td>Android</td>\n",
       "    </tr>\n",
       "    <tr>\n",
       "      <th>3615</th>\n",
       "      <td>Burn in isn't even the biggest issue with OLED...</td>\n",
       "      <td>NaN</td>\n",
       "      <td>-45.0</td>\n",
       "      <td>Android</td>\n",
       "    </tr>\n",
       "    <tr>\n",
       "      <th>5884</th>\n",
       "      <td>No it doesn't. If you can't afford the phone u...</td>\n",
       "      <td>NaN</td>\n",
       "      <td>-45.0</td>\n",
       "      <td>Android</td>\n",
       "    </tr>\n",
       "    <tr>\n",
       "      <th>32951</th>\n",
       "      <td>The Essential Phone was announced on May 30. T...</td>\n",
       "      <td>NaN</td>\n",
       "      <td>-45.0</td>\n",
       "      <td>Android</td>\n",
       "    </tr>\n",
       "    <tr>\n",
       "      <th>30906</th>\n",
       "      <td>That’s because they are incorrectly counting t...</td>\n",
       "      <td>NaN</td>\n",
       "      <td>-45.0</td>\n",
       "      <td>Android</td>\n",
       "    </tr>\n",
       "    <tr>\n",
       "      <th>20017</th>\n",
       "      <td>Might as well compare it to the $40 Verizon mo...</td>\n",
       "      <td>NaN</td>\n",
       "      <td>-44.0</td>\n",
       "      <td>Android</td>\n",
       "    </tr>\n",
       "    <tr>\n",
       "      <th>11075</th>\n",
       "      <td>It's amazing I never felt like I needed a rest...</td>\n",
       "      <td>NaN</td>\n",
       "      <td>-43.0</td>\n",
       "      <td>Android</td>\n",
       "    </tr>\n",
       "    <tr>\n",
       "      <th>29508</th>\n",
       "      <td>That’s because they are incorrectly counting t...</td>\n",
       "      <td>NaN</td>\n",
       "      <td>-41.0</td>\n",
       "      <td>Android</td>\n",
       "    </tr>\n",
       "    <tr>\n",
       "      <th>31429</th>\n",
       "      <td>For a subreddit that seems to have a group men...</td>\n",
       "      <td>NaN</td>\n",
       "      <td>-40.0</td>\n",
       "      <td>Android</td>\n",
       "    </tr>\n",
       "    <tr>\n",
       "      <th>49265</th>\n",
       "      <td>Apple A 11 Bionic is a **TRUE 6 CORES** cpu, i...</td>\n",
       "      <td>NaN</td>\n",
       "      <td>-40.0</td>\n",
       "      <td>Android</td>\n",
       "    </tr>\n",
       "    <tr>\n",
       "      <th>4277</th>\n",
       "      <td>You know what? Samsung IS the BIGGEST Android ...</td>\n",
       "      <td>NaN</td>\n",
       "      <td>-40.0</td>\n",
       "      <td>Android</td>\n",
       "    </tr>\n",
       "    <tr>\n",
       "      <th>19532</th>\n",
       "      <td>You're comparing geekebench results from iOS t...</td>\n",
       "      <td>NaN</td>\n",
       "      <td>-39.0</td>\n",
       "      <td>Android</td>\n",
       "    </tr>\n",
       "    <tr>\n",
       "      <th>19964</th>\n",
       "      <td>This comment makes no sense, unless you mean t...</td>\n",
       "      <td>NaN</td>\n",
       "      <td>-38.0</td>\n",
       "      <td>Android</td>\n",
       "    </tr>\n",
       "    <tr>\n",
       "      <th>...</th>\n",
       "      <td>...</td>\n",
       "      <td>...</td>\n",
       "      <td>...</td>\n",
       "      <td>...</td>\n",
       "    </tr>\n",
       "    <tr>\n",
       "      <th>19275</th>\n",
       "      <td>A little disappointing. While I welcome its ex...</td>\n",
       "      <td>NaN</td>\n",
       "      <td>1062.0</td>\n",
       "      <td>Android</td>\n",
       "    </tr>\n",
       "    <tr>\n",
       "      <th>24302</th>\n",
       "      <td>You would think you'd get a notification/email...</td>\n",
       "      <td>NaN</td>\n",
       "      <td>1069.0</td>\n",
       "      <td>Android</td>\n",
       "    </tr>\n",
       "    <tr>\n",
       "      <th>3280</th>\n",
       "      <td>Lineage OS:\\n\\nSettings - buttons - volume but...</td>\n",
       "      <td>NaN</td>\n",
       "      <td>1088.0</td>\n",
       "      <td>Android</td>\n",
       "    </tr>\n",
       "    <tr>\n",
       "      <th>49873</th>\n",
       "      <td>Android 9.0 is supposed to come out next year,...</td>\n",
       "      <td>NaN</td>\n",
       "      <td>1147.0</td>\n",
       "      <td>Android</td>\n",
       "    </tr>\n",
       "    <tr>\n",
       "      <th>3430</th>\n",
       "      <td>And the funniest thing is that thoughout your ...</td>\n",
       "      <td>NaN</td>\n",
       "      <td>1161.0</td>\n",
       "      <td>Android</td>\n",
       "    </tr>\n",
       "    <tr>\n",
       "      <th>4746</th>\n",
       "      <td>Yeah a lot of people I know like to compare DS...</td>\n",
       "      <td>NaN</td>\n",
       "      <td>1183.0</td>\n",
       "      <td>Android</td>\n",
       "    </tr>\n",
       "    <tr>\n",
       "      <th>33491</th>\n",
       "      <td>It's so sad that people actually fall for Clea...</td>\n",
       "      <td>NaN</td>\n",
       "      <td>1190.0</td>\n",
       "      <td>Android</td>\n",
       "    </tr>\n",
       "    <tr>\n",
       "      <th>39378</th>\n",
       "      <td>Wish Google would have kept the Nexus line up ...</td>\n",
       "      <td>NaN</td>\n",
       "      <td>1191.0</td>\n",
       "      <td>Android</td>\n",
       "    </tr>\n",
       "    <tr>\n",
       "      <th>49863</th>\n",
       "      <td>Why is everyone afraid of 9\\n\\n\\n\\nEdit: I get...</td>\n",
       "      <td>NaN</td>\n",
       "      <td>1316.0</td>\n",
       "      <td>Android</td>\n",
       "    </tr>\n",
       "    <tr>\n",
       "      <th>45395</th>\n",
       "      <td>Only if it were news... They explicitly state ...</td>\n",
       "      <td>NaN</td>\n",
       "      <td>1326.0</td>\n",
       "      <td>Android</td>\n",
       "    </tr>\n",
       "    <tr>\n",
       "      <th>19605</th>\n",
       "      <td>I agree. It's not like the essential phone whe...</td>\n",
       "      <td>NaN</td>\n",
       "      <td>1332.0</td>\n",
       "      <td>Android</td>\n",
       "    </tr>\n",
       "    <tr>\n",
       "      <th>3349</th>\n",
       "      <td>You're going to sit there and I'm not going to...</td>\n",
       "      <td>NaN</td>\n",
       "      <td>1339.0</td>\n",
       "      <td>Android</td>\n",
       "    </tr>\n",
       "    <tr>\n",
       "      <th>19362</th>\n",
       "      <td>They don't black out the sides of the camera c...</td>\n",
       "      <td>NaN</td>\n",
       "      <td>1370.0</td>\n",
       "      <td>Android</td>\n",
       "    </tr>\n",
       "    <tr>\n",
       "      <th>20528</th>\n",
       "      <td>Lots of old iOS apps would test the OS version...</td>\n",
       "      <td>NaN</td>\n",
       "      <td>1517.0</td>\n",
       "      <td>Android</td>\n",
       "    </tr>\n",
       "    <tr>\n",
       "      <th>18459</th>\n",
       "      <td>During i/o\\n\\n\\n\\nr/Android: OH FFS WE DIDN'T ...</td>\n",
       "      <td>NaN</td>\n",
       "      <td>1646.0</td>\n",
       "      <td>Android</td>\n",
       "    </tr>\n",
       "    <tr>\n",
       "      <th>10790</th>\n",
       "      <td>/r/Android:\\n\\n\"wow that would be stupid, Goog...</td>\n",
       "      <td>NaN</td>\n",
       "      <td>1717.0</td>\n",
       "      <td>Android</td>\n",
       "    </tr>\n",
       "    <tr>\n",
       "      <th>19663</th>\n",
       "      <td>I think this image says it all: https://pbs.tw...</td>\n",
       "      <td>NaN</td>\n",
       "      <td>1762.0</td>\n",
       "      <td>Android</td>\n",
       "    </tr>\n",
       "    <tr>\n",
       "      <th>19536</th>\n",
       "      <td>You can see (or rather not see) it here: https...</td>\n",
       "      <td>NaN</td>\n",
       "      <td>1902.0</td>\n",
       "      <td>Android</td>\n",
       "    </tr>\n",
       "    <tr>\n",
       "      <th>39208</th>\n",
       "      <td>That price point is atrocious. After using my ...</td>\n",
       "      <td>NaN</td>\n",
       "      <td>1955.0</td>\n",
       "      <td>Android</td>\n",
       "    </tr>\n",
       "    <tr>\n",
       "      <th>21432</th>\n",
       "      <td>\"I buy Apple products for the Apple 'Ecosystem...</td>\n",
       "      <td>NaN</td>\n",
       "      <td>2108.0</td>\n",
       "      <td>Android</td>\n",
       "    </tr>\n",
       "    <tr>\n",
       "      <th>19289</th>\n",
       "      <td>If I was an iPhone fan, I think I'd be upset t...</td>\n",
       "      <td>NaN</td>\n",
       "      <td>2170.0</td>\n",
       "      <td>Android</td>\n",
       "    </tr>\n",
       "    <tr>\n",
       "      <th>19287</th>\n",
       "      <td>Am I mistaken or does video playback actually ...</td>\n",
       "      <td>NaN</td>\n",
       "      <td>2961.0</td>\n",
       "      <td>Android</td>\n",
       "    </tr>\n",
       "    <tr>\n",
       "      <th>39222</th>\n",
       "      <td>Phone prices just keep on going up at the top ...</td>\n",
       "      <td>NaN</td>\n",
       "      <td>3154.0</td>\n",
       "      <td>Android</td>\n",
       "    </tr>\n",
       "    <tr>\n",
       "      <th>19298</th>\n",
       "      <td>The FaceID tech looks way slower than TouchID....</td>\n",
       "      <td>NaN</td>\n",
       "      <td>3465.0</td>\n",
       "      <td>Android</td>\n",
       "    </tr>\n",
       "    <tr>\n",
       "      <th>41344</th>\n",
       "      <td>HTC: \"Surprise! We sold the company to Lenovo ...</td>\n",
       "      <td>NaN</td>\n",
       "      <td>3502.0</td>\n",
       "      <td>Android</td>\n",
       "    </tr>\n",
       "    <tr>\n",
       "      <th>19458</th>\n",
       "      <td>Not iPhone X, but I think it was good for Appl...</td>\n",
       "      <td>NaN</td>\n",
       "      <td>3693.0</td>\n",
       "      <td>Android</td>\n",
       "    </tr>\n",
       "    <tr>\n",
       "      <th>19834</th>\n",
       "      <td>2016: We have the courage to remove the headph...</td>\n",
       "      <td>NaN</td>\n",
       "      <td>3889.0</td>\n",
       "      <td>Android</td>\n",
       "    </tr>\n",
       "    <tr>\n",
       "      <th>19314</th>\n",
       "      <td>I think the fact that animojis is something Ap...</td>\n",
       "      <td>NaN</td>\n",
       "      <td>5445.0</td>\n",
       "      <td>Android</td>\n",
       "    </tr>\n",
       "    <tr>\n",
       "      <th>3293</th>\n",
       "      <td>Except it's not, because what should happen at...</td>\n",
       "      <td>NaN</td>\n",
       "      <td>6781.0</td>\n",
       "      <td>Android</td>\n",
       "    </tr>\n",
       "    <tr>\n",
       "      <th>19290</th>\n",
       "      <td>Pretty much what the leaks said it would be. T...</td>\n",
       "      <td>NaN</td>\n",
       "      <td>9142.0</td>\n",
       "      <td>Android</td>\n",
       "    </tr>\n",
       "  </tbody>\n",
       "</table>\n",
       "<p>50000 rows × 4 columns</p>\n",
       "</div>"
      ],
      "text/plain": [
       "                                                    body  percentile   score  \\\n",
       "10040  1. First world problems 2. If it is that incon...         NaN  -260.0   \n",
       "49434  &gt;In India whenever there is any conflict, t...         NaN   -90.0   \n",
       "4665   Oh, yeah? In what way this cheap peace of Chin...         NaN   -79.0   \n",
       "4155   I can't stand spongebob memes. Maybe because I...         NaN   -78.0   \n",
       "3588   All OLEDs are trash. Can't believe people stil...         NaN   -71.0   \n",
       "12785  Google as a whole is a garbage company. They'v...         NaN   -69.0   \n",
       "13705  Or...I don't know....quit relying on cellular ...         NaN   -68.0   \n",
       "33143  Having a headphone jack has nothing to do with...         NaN   -62.0   \n",
       "17144  No root required for theming, but now you have...         NaN   -60.0   \n",
       "36153  Being a techy is absolutely no reason to buy a...         NaN   -57.0   \n",
       "5437   So if I search for \"brain blocks\", a game call...         NaN   -57.0   \n",
       "44594  The difference is that Google makes Android an...         NaN   -56.0   \n",
       "14156  Tell that to everyone who has been getting alo...         NaN   -54.0   \n",
       "11253  I gotta say, if I saw this on a spec sheet wit...         NaN   -54.0   \n",
       "31217  I wouldn’t worry too much about it.  Samsung l...         NaN   -48.0   \n",
       "33591  Omg shut up. Many of us have been using since ...         NaN   -48.0   \n",
       "49801  &gt; Then there is the question of size: only ...         NaN   -48.0   \n",
       "29820  I wouldn’t worry too much about it.  Samsung l...         NaN   -47.0   \n",
       "3615   Burn in isn't even the biggest issue with OLED...         NaN   -45.0   \n",
       "5884   No it doesn't. If you can't afford the phone u...         NaN   -45.0   \n",
       "32951  The Essential Phone was announced on May 30. T...         NaN   -45.0   \n",
       "30906  That’s because they are incorrectly counting t...         NaN   -45.0   \n",
       "20017  Might as well compare it to the $40 Verizon mo...         NaN   -44.0   \n",
       "11075  It's amazing I never felt like I needed a rest...         NaN   -43.0   \n",
       "29508  That’s because they are incorrectly counting t...         NaN   -41.0   \n",
       "31429  For a subreddit that seems to have a group men...         NaN   -40.0   \n",
       "49265  Apple A 11 Bionic is a **TRUE 6 CORES** cpu, i...         NaN   -40.0   \n",
       "4277   You know what? Samsung IS the BIGGEST Android ...         NaN   -40.0   \n",
       "19532  You're comparing geekebench results from iOS t...         NaN   -39.0   \n",
       "19964  This comment makes no sense, unless you mean t...         NaN   -38.0   \n",
       "...                                                  ...         ...     ...   \n",
       "19275  A little disappointing. While I welcome its ex...         NaN  1062.0   \n",
       "24302  You would think you'd get a notification/email...         NaN  1069.0   \n",
       "3280   Lineage OS:\\n\\nSettings - buttons - volume but...         NaN  1088.0   \n",
       "49873  Android 9.0 is supposed to come out next year,...         NaN  1147.0   \n",
       "3430   And the funniest thing is that thoughout your ...         NaN  1161.0   \n",
       "4746   Yeah a lot of people I know like to compare DS...         NaN  1183.0   \n",
       "33491  It's so sad that people actually fall for Clea...         NaN  1190.0   \n",
       "39378  Wish Google would have kept the Nexus line up ...         NaN  1191.0   \n",
       "49863  Why is everyone afraid of 9\\n\\n\\n\\nEdit: I get...         NaN  1316.0   \n",
       "45395  Only if it were news... They explicitly state ...         NaN  1326.0   \n",
       "19605  I agree. It's not like the essential phone whe...         NaN  1332.0   \n",
       "3349   You're going to sit there and I'm not going to...         NaN  1339.0   \n",
       "19362  They don't black out the sides of the camera c...         NaN  1370.0   \n",
       "20528  Lots of old iOS apps would test the OS version...         NaN  1517.0   \n",
       "18459  During i/o\\n\\n\\n\\nr/Android: OH FFS WE DIDN'T ...         NaN  1646.0   \n",
       "10790  /r/Android:\\n\\n\"wow that would be stupid, Goog...         NaN  1717.0   \n",
       "19663  I think this image says it all: https://pbs.tw...         NaN  1762.0   \n",
       "19536  You can see (or rather not see) it here: https...         NaN  1902.0   \n",
       "39208  That price point is atrocious. After using my ...         NaN  1955.0   \n",
       "21432  \"I buy Apple products for the Apple 'Ecosystem...         NaN  2108.0   \n",
       "19289  If I was an iPhone fan, I think I'd be upset t...         NaN  2170.0   \n",
       "19287  Am I mistaken or does video playback actually ...         NaN  2961.0   \n",
       "39222  Phone prices just keep on going up at the top ...         NaN  3154.0   \n",
       "19298  The FaceID tech looks way slower than TouchID....         NaN  3465.0   \n",
       "41344  HTC: \"Surprise! We sold the company to Lenovo ...         NaN  3502.0   \n",
       "19458  Not iPhone X, but I think it was good for Appl...         NaN  3693.0   \n",
       "19834  2016: We have the courage to remove the headph...         NaN  3889.0   \n",
       "19314  I think the fact that animojis is something Ap...         NaN  5445.0   \n",
       "3293   Except it's not, because what should happen at...         NaN  6781.0   \n",
       "19290  Pretty much what the leaks said it would be. T...         NaN  9142.0   \n",
       "\n",
       "      subreddit  \n",
       "10040   Android  \n",
       "49434   Android  \n",
       "4665    Android  \n",
       "4155    Android  \n",
       "3588    Android  \n",
       "12785   Android  \n",
       "13705   Android  \n",
       "33143   Android  \n",
       "17144   Android  \n",
       "36153   Android  \n",
       "5437    Android  \n",
       "44594   Android  \n",
       "14156   Android  \n",
       "11253   Android  \n",
       "31217   Android  \n",
       "33591   Android  \n",
       "49801   Android  \n",
       "29820   Android  \n",
       "3615    Android  \n",
       "5884    Android  \n",
       "32951   Android  \n",
       "30906   Android  \n",
       "20017   Android  \n",
       "11075   Android  \n",
       "29508   Android  \n",
       "31429   Android  \n",
       "49265   Android  \n",
       "4277    Android  \n",
       "19532   Android  \n",
       "19964   Android  \n",
       "...         ...  \n",
       "19275   Android  \n",
       "24302   Android  \n",
       "3280    Android  \n",
       "49873   Android  \n",
       "3430    Android  \n",
       "4746    Android  \n",
       "33491   Android  \n",
       "39378   Android  \n",
       "49863   Android  \n",
       "45395   Android  \n",
       "19605   Android  \n",
       "3349    Android  \n",
       "19362   Android  \n",
       "20528   Android  \n",
       "18459   Android  \n",
       "10790   Android  \n",
       "19663   Android  \n",
       "19536   Android  \n",
       "39208   Android  \n",
       "21432   Android  \n",
       "19289   Android  \n",
       "19287   Android  \n",
       "39222   Android  \n",
       "19298   Android  \n",
       "41344   Android  \n",
       "19458   Android  \n",
       "19834   Android  \n",
       "19314   Android  \n",
       "3293    Android  \n",
       "19290   Android  \n",
       "\n",
       "[50000 rows x 4 columns]"
      ]
     },
     "execution_count": 23,
     "metadata": {},
     "output_type": "execute_result"
    }
   ],
   "source": [
    "Android_df"
   ]
  },
  {
   "cell_type": "markdown",
   "metadata": {},
   "source": [
    "# reindex\n",
    "\n",
    "I had to reindex the dataframes."
   ]
  },
  {
   "cell_type": "code",
   "execution_count": 24,
   "metadata": {},
   "outputs": [
    {
     "data": {
      "text/html": [
       "<div>\n",
       "<style>\n",
       "    .dataframe thead tr:only-child th {\n",
       "        text-align: right;\n",
       "    }\n",
       "\n",
       "    .dataframe thead th {\n",
       "        text-align: left;\n",
       "    }\n",
       "\n",
       "    .dataframe tbody tr th {\n",
       "        vertical-align: top;\n",
       "    }\n",
       "</style>\n",
       "<table border=\"1\" class=\"dataframe\">\n",
       "  <thead>\n",
       "    <tr style=\"text-align: right;\">\n",
       "      <th></th>\n",
       "      <th>body</th>\n",
       "      <th>percentile</th>\n",
       "      <th>score</th>\n",
       "      <th>subreddit</th>\n",
       "    </tr>\n",
       "  </thead>\n",
       "  <tbody>\n",
       "    <tr>\n",
       "      <th>0</th>\n",
       "      <td>1. First world problems 2. If it is that incon...</td>\n",
       "      <td>NaN</td>\n",
       "      <td>-260.0</td>\n",
       "      <td>Android</td>\n",
       "    </tr>\n",
       "    <tr>\n",
       "      <th>1</th>\n",
       "      <td>&amp;gt;In India whenever there is any conflict, t...</td>\n",
       "      <td>NaN</td>\n",
       "      <td>-90.0</td>\n",
       "      <td>Android</td>\n",
       "    </tr>\n",
       "    <tr>\n",
       "      <th>2</th>\n",
       "      <td>Oh, yeah? In what way this cheap peace of Chin...</td>\n",
       "      <td>NaN</td>\n",
       "      <td>-79.0</td>\n",
       "      <td>Android</td>\n",
       "    </tr>\n",
       "    <tr>\n",
       "      <th>3</th>\n",
       "      <td>I can't stand spongebob memes. Maybe because I...</td>\n",
       "      <td>NaN</td>\n",
       "      <td>-78.0</td>\n",
       "      <td>Android</td>\n",
       "    </tr>\n",
       "    <tr>\n",
       "      <th>4</th>\n",
       "      <td>All OLEDs are trash. Can't believe people stil...</td>\n",
       "      <td>NaN</td>\n",
       "      <td>-71.0</td>\n",
       "      <td>Android</td>\n",
       "    </tr>\n",
       "    <tr>\n",
       "      <th>5</th>\n",
       "      <td>Google as a whole is a garbage company. They'v...</td>\n",
       "      <td>NaN</td>\n",
       "      <td>-69.0</td>\n",
       "      <td>Android</td>\n",
       "    </tr>\n",
       "    <tr>\n",
       "      <th>6</th>\n",
       "      <td>Or...I don't know....quit relying on cellular ...</td>\n",
       "      <td>NaN</td>\n",
       "      <td>-68.0</td>\n",
       "      <td>Android</td>\n",
       "    </tr>\n",
       "    <tr>\n",
       "      <th>7</th>\n",
       "      <td>Having a headphone jack has nothing to do with...</td>\n",
       "      <td>NaN</td>\n",
       "      <td>-62.0</td>\n",
       "      <td>Android</td>\n",
       "    </tr>\n",
       "    <tr>\n",
       "      <th>8</th>\n",
       "      <td>No root required for theming, but now you have...</td>\n",
       "      <td>NaN</td>\n",
       "      <td>-60.0</td>\n",
       "      <td>Android</td>\n",
       "    </tr>\n",
       "    <tr>\n",
       "      <th>9</th>\n",
       "      <td>Being a techy is absolutely no reason to buy a...</td>\n",
       "      <td>NaN</td>\n",
       "      <td>-57.0</td>\n",
       "      <td>Android</td>\n",
       "    </tr>\n",
       "    <tr>\n",
       "      <th>10</th>\n",
       "      <td>So if I search for \"brain blocks\", a game call...</td>\n",
       "      <td>NaN</td>\n",
       "      <td>-57.0</td>\n",
       "      <td>Android</td>\n",
       "    </tr>\n",
       "    <tr>\n",
       "      <th>11</th>\n",
       "      <td>The difference is that Google makes Android an...</td>\n",
       "      <td>NaN</td>\n",
       "      <td>-56.0</td>\n",
       "      <td>Android</td>\n",
       "    </tr>\n",
       "    <tr>\n",
       "      <th>12</th>\n",
       "      <td>Tell that to everyone who has been getting alo...</td>\n",
       "      <td>NaN</td>\n",
       "      <td>-54.0</td>\n",
       "      <td>Android</td>\n",
       "    </tr>\n",
       "    <tr>\n",
       "      <th>13</th>\n",
       "      <td>I gotta say, if I saw this on a spec sheet wit...</td>\n",
       "      <td>NaN</td>\n",
       "      <td>-54.0</td>\n",
       "      <td>Android</td>\n",
       "    </tr>\n",
       "    <tr>\n",
       "      <th>14</th>\n",
       "      <td>I wouldn’t worry too much about it.  Samsung l...</td>\n",
       "      <td>NaN</td>\n",
       "      <td>-48.0</td>\n",
       "      <td>Android</td>\n",
       "    </tr>\n",
       "    <tr>\n",
       "      <th>15</th>\n",
       "      <td>Omg shut up. Many of us have been using since ...</td>\n",
       "      <td>NaN</td>\n",
       "      <td>-48.0</td>\n",
       "      <td>Android</td>\n",
       "    </tr>\n",
       "    <tr>\n",
       "      <th>16</th>\n",
       "      <td>&amp;gt; Then there is the question of size: only ...</td>\n",
       "      <td>NaN</td>\n",
       "      <td>-48.0</td>\n",
       "      <td>Android</td>\n",
       "    </tr>\n",
       "    <tr>\n",
       "      <th>17</th>\n",
       "      <td>I wouldn’t worry too much about it.  Samsung l...</td>\n",
       "      <td>NaN</td>\n",
       "      <td>-47.0</td>\n",
       "      <td>Android</td>\n",
       "    </tr>\n",
       "    <tr>\n",
       "      <th>18</th>\n",
       "      <td>Burn in isn't even the biggest issue with OLED...</td>\n",
       "      <td>NaN</td>\n",
       "      <td>-45.0</td>\n",
       "      <td>Android</td>\n",
       "    </tr>\n",
       "    <tr>\n",
       "      <th>19</th>\n",
       "      <td>No it doesn't. If you can't afford the phone u...</td>\n",
       "      <td>NaN</td>\n",
       "      <td>-45.0</td>\n",
       "      <td>Android</td>\n",
       "    </tr>\n",
       "    <tr>\n",
       "      <th>20</th>\n",
       "      <td>The Essential Phone was announced on May 30. T...</td>\n",
       "      <td>NaN</td>\n",
       "      <td>-45.0</td>\n",
       "      <td>Android</td>\n",
       "    </tr>\n",
       "    <tr>\n",
       "      <th>21</th>\n",
       "      <td>That’s because they are incorrectly counting t...</td>\n",
       "      <td>NaN</td>\n",
       "      <td>-45.0</td>\n",
       "      <td>Android</td>\n",
       "    </tr>\n",
       "    <tr>\n",
       "      <th>22</th>\n",
       "      <td>Might as well compare it to the $40 Verizon mo...</td>\n",
       "      <td>NaN</td>\n",
       "      <td>-44.0</td>\n",
       "      <td>Android</td>\n",
       "    </tr>\n",
       "    <tr>\n",
       "      <th>23</th>\n",
       "      <td>It's amazing I never felt like I needed a rest...</td>\n",
       "      <td>NaN</td>\n",
       "      <td>-43.0</td>\n",
       "      <td>Android</td>\n",
       "    </tr>\n",
       "    <tr>\n",
       "      <th>24</th>\n",
       "      <td>That’s because they are incorrectly counting t...</td>\n",
       "      <td>NaN</td>\n",
       "      <td>-41.0</td>\n",
       "      <td>Android</td>\n",
       "    </tr>\n",
       "    <tr>\n",
       "      <th>25</th>\n",
       "      <td>For a subreddit that seems to have a group men...</td>\n",
       "      <td>NaN</td>\n",
       "      <td>-40.0</td>\n",
       "      <td>Android</td>\n",
       "    </tr>\n",
       "    <tr>\n",
       "      <th>26</th>\n",
       "      <td>Apple A 11 Bionic is a **TRUE 6 CORES** cpu, i...</td>\n",
       "      <td>NaN</td>\n",
       "      <td>-40.0</td>\n",
       "      <td>Android</td>\n",
       "    </tr>\n",
       "    <tr>\n",
       "      <th>27</th>\n",
       "      <td>You know what? Samsung IS the BIGGEST Android ...</td>\n",
       "      <td>NaN</td>\n",
       "      <td>-40.0</td>\n",
       "      <td>Android</td>\n",
       "    </tr>\n",
       "    <tr>\n",
       "      <th>28</th>\n",
       "      <td>You're comparing geekebench results from iOS t...</td>\n",
       "      <td>NaN</td>\n",
       "      <td>-39.0</td>\n",
       "      <td>Android</td>\n",
       "    </tr>\n",
       "    <tr>\n",
       "      <th>29</th>\n",
       "      <td>This comment makes no sense, unless you mean t...</td>\n",
       "      <td>NaN</td>\n",
       "      <td>-38.0</td>\n",
       "      <td>Android</td>\n",
       "    </tr>\n",
       "    <tr>\n",
       "      <th>...</th>\n",
       "      <td>...</td>\n",
       "      <td>...</td>\n",
       "      <td>...</td>\n",
       "      <td>...</td>\n",
       "    </tr>\n",
       "    <tr>\n",
       "      <th>49970</th>\n",
       "      <td>A little disappointing. While I welcome its ex...</td>\n",
       "      <td>NaN</td>\n",
       "      <td>1062.0</td>\n",
       "      <td>Android</td>\n",
       "    </tr>\n",
       "    <tr>\n",
       "      <th>49971</th>\n",
       "      <td>You would think you'd get a notification/email...</td>\n",
       "      <td>NaN</td>\n",
       "      <td>1069.0</td>\n",
       "      <td>Android</td>\n",
       "    </tr>\n",
       "    <tr>\n",
       "      <th>49972</th>\n",
       "      <td>Lineage OS:\\n\\nSettings - buttons - volume but...</td>\n",
       "      <td>NaN</td>\n",
       "      <td>1088.0</td>\n",
       "      <td>Android</td>\n",
       "    </tr>\n",
       "    <tr>\n",
       "      <th>49973</th>\n",
       "      <td>Android 9.0 is supposed to come out next year,...</td>\n",
       "      <td>NaN</td>\n",
       "      <td>1147.0</td>\n",
       "      <td>Android</td>\n",
       "    </tr>\n",
       "    <tr>\n",
       "      <th>49974</th>\n",
       "      <td>And the funniest thing is that thoughout your ...</td>\n",
       "      <td>NaN</td>\n",
       "      <td>1161.0</td>\n",
       "      <td>Android</td>\n",
       "    </tr>\n",
       "    <tr>\n",
       "      <th>49975</th>\n",
       "      <td>Yeah a lot of people I know like to compare DS...</td>\n",
       "      <td>NaN</td>\n",
       "      <td>1183.0</td>\n",
       "      <td>Android</td>\n",
       "    </tr>\n",
       "    <tr>\n",
       "      <th>49976</th>\n",
       "      <td>It's so sad that people actually fall for Clea...</td>\n",
       "      <td>NaN</td>\n",
       "      <td>1190.0</td>\n",
       "      <td>Android</td>\n",
       "    </tr>\n",
       "    <tr>\n",
       "      <th>49977</th>\n",
       "      <td>Wish Google would have kept the Nexus line up ...</td>\n",
       "      <td>NaN</td>\n",
       "      <td>1191.0</td>\n",
       "      <td>Android</td>\n",
       "    </tr>\n",
       "    <tr>\n",
       "      <th>49978</th>\n",
       "      <td>Why is everyone afraid of 9\\n\\n\\n\\nEdit: I get...</td>\n",
       "      <td>NaN</td>\n",
       "      <td>1316.0</td>\n",
       "      <td>Android</td>\n",
       "    </tr>\n",
       "    <tr>\n",
       "      <th>49979</th>\n",
       "      <td>Only if it were news... They explicitly state ...</td>\n",
       "      <td>NaN</td>\n",
       "      <td>1326.0</td>\n",
       "      <td>Android</td>\n",
       "    </tr>\n",
       "    <tr>\n",
       "      <th>49980</th>\n",
       "      <td>I agree. It's not like the essential phone whe...</td>\n",
       "      <td>NaN</td>\n",
       "      <td>1332.0</td>\n",
       "      <td>Android</td>\n",
       "    </tr>\n",
       "    <tr>\n",
       "      <th>49981</th>\n",
       "      <td>You're going to sit there and I'm not going to...</td>\n",
       "      <td>NaN</td>\n",
       "      <td>1339.0</td>\n",
       "      <td>Android</td>\n",
       "    </tr>\n",
       "    <tr>\n",
       "      <th>49982</th>\n",
       "      <td>They don't black out the sides of the camera c...</td>\n",
       "      <td>NaN</td>\n",
       "      <td>1370.0</td>\n",
       "      <td>Android</td>\n",
       "    </tr>\n",
       "    <tr>\n",
       "      <th>49983</th>\n",
       "      <td>Lots of old iOS apps would test the OS version...</td>\n",
       "      <td>NaN</td>\n",
       "      <td>1517.0</td>\n",
       "      <td>Android</td>\n",
       "    </tr>\n",
       "    <tr>\n",
       "      <th>49984</th>\n",
       "      <td>During i/o\\n\\n\\n\\nr/Android: OH FFS WE DIDN'T ...</td>\n",
       "      <td>NaN</td>\n",
       "      <td>1646.0</td>\n",
       "      <td>Android</td>\n",
       "    </tr>\n",
       "    <tr>\n",
       "      <th>49985</th>\n",
       "      <td>/r/Android:\\n\\n\"wow that would be stupid, Goog...</td>\n",
       "      <td>NaN</td>\n",
       "      <td>1717.0</td>\n",
       "      <td>Android</td>\n",
       "    </tr>\n",
       "    <tr>\n",
       "      <th>49986</th>\n",
       "      <td>I think this image says it all: https://pbs.tw...</td>\n",
       "      <td>NaN</td>\n",
       "      <td>1762.0</td>\n",
       "      <td>Android</td>\n",
       "    </tr>\n",
       "    <tr>\n",
       "      <th>49987</th>\n",
       "      <td>You can see (or rather not see) it here: https...</td>\n",
       "      <td>NaN</td>\n",
       "      <td>1902.0</td>\n",
       "      <td>Android</td>\n",
       "    </tr>\n",
       "    <tr>\n",
       "      <th>49988</th>\n",
       "      <td>That price point is atrocious. After using my ...</td>\n",
       "      <td>NaN</td>\n",
       "      <td>1955.0</td>\n",
       "      <td>Android</td>\n",
       "    </tr>\n",
       "    <tr>\n",
       "      <th>49989</th>\n",
       "      <td>\"I buy Apple products for the Apple 'Ecosystem...</td>\n",
       "      <td>NaN</td>\n",
       "      <td>2108.0</td>\n",
       "      <td>Android</td>\n",
       "    </tr>\n",
       "    <tr>\n",
       "      <th>49990</th>\n",
       "      <td>If I was an iPhone fan, I think I'd be upset t...</td>\n",
       "      <td>NaN</td>\n",
       "      <td>2170.0</td>\n",
       "      <td>Android</td>\n",
       "    </tr>\n",
       "    <tr>\n",
       "      <th>49991</th>\n",
       "      <td>Am I mistaken or does video playback actually ...</td>\n",
       "      <td>NaN</td>\n",
       "      <td>2961.0</td>\n",
       "      <td>Android</td>\n",
       "    </tr>\n",
       "    <tr>\n",
       "      <th>49992</th>\n",
       "      <td>Phone prices just keep on going up at the top ...</td>\n",
       "      <td>NaN</td>\n",
       "      <td>3154.0</td>\n",
       "      <td>Android</td>\n",
       "    </tr>\n",
       "    <tr>\n",
       "      <th>49993</th>\n",
       "      <td>The FaceID tech looks way slower than TouchID....</td>\n",
       "      <td>NaN</td>\n",
       "      <td>3465.0</td>\n",
       "      <td>Android</td>\n",
       "    </tr>\n",
       "    <tr>\n",
       "      <th>49994</th>\n",
       "      <td>HTC: \"Surprise! We sold the company to Lenovo ...</td>\n",
       "      <td>NaN</td>\n",
       "      <td>3502.0</td>\n",
       "      <td>Android</td>\n",
       "    </tr>\n",
       "    <tr>\n",
       "      <th>49995</th>\n",
       "      <td>Not iPhone X, but I think it was good for Appl...</td>\n",
       "      <td>NaN</td>\n",
       "      <td>3693.0</td>\n",
       "      <td>Android</td>\n",
       "    </tr>\n",
       "    <tr>\n",
       "      <th>49996</th>\n",
       "      <td>2016: We have the courage to remove the headph...</td>\n",
       "      <td>NaN</td>\n",
       "      <td>3889.0</td>\n",
       "      <td>Android</td>\n",
       "    </tr>\n",
       "    <tr>\n",
       "      <th>49997</th>\n",
       "      <td>I think the fact that animojis is something Ap...</td>\n",
       "      <td>NaN</td>\n",
       "      <td>5445.0</td>\n",
       "      <td>Android</td>\n",
       "    </tr>\n",
       "    <tr>\n",
       "      <th>49998</th>\n",
       "      <td>Except it's not, because what should happen at...</td>\n",
       "      <td>NaN</td>\n",
       "      <td>6781.0</td>\n",
       "      <td>Android</td>\n",
       "    </tr>\n",
       "    <tr>\n",
       "      <th>49999</th>\n",
       "      <td>Pretty much what the leaks said it would be. T...</td>\n",
       "      <td>NaN</td>\n",
       "      <td>9142.0</td>\n",
       "      <td>Android</td>\n",
       "    </tr>\n",
       "  </tbody>\n",
       "</table>\n",
       "<p>50000 rows × 4 columns</p>\n",
       "</div>"
      ],
      "text/plain": [
       "                                                    body  percentile   score  \\\n",
       "0      1. First world problems 2. If it is that incon...         NaN  -260.0   \n",
       "1      &gt;In India whenever there is any conflict, t...         NaN   -90.0   \n",
       "2      Oh, yeah? In what way this cheap peace of Chin...         NaN   -79.0   \n",
       "3      I can't stand spongebob memes. Maybe because I...         NaN   -78.0   \n",
       "4      All OLEDs are trash. Can't believe people stil...         NaN   -71.0   \n",
       "5      Google as a whole is a garbage company. They'v...         NaN   -69.0   \n",
       "6      Or...I don't know....quit relying on cellular ...         NaN   -68.0   \n",
       "7      Having a headphone jack has nothing to do with...         NaN   -62.0   \n",
       "8      No root required for theming, but now you have...         NaN   -60.0   \n",
       "9      Being a techy is absolutely no reason to buy a...         NaN   -57.0   \n",
       "10     So if I search for \"brain blocks\", a game call...         NaN   -57.0   \n",
       "11     The difference is that Google makes Android an...         NaN   -56.0   \n",
       "12     Tell that to everyone who has been getting alo...         NaN   -54.0   \n",
       "13     I gotta say, if I saw this on a spec sheet wit...         NaN   -54.0   \n",
       "14     I wouldn’t worry too much about it.  Samsung l...         NaN   -48.0   \n",
       "15     Omg shut up. Many of us have been using since ...         NaN   -48.0   \n",
       "16     &gt; Then there is the question of size: only ...         NaN   -48.0   \n",
       "17     I wouldn’t worry too much about it.  Samsung l...         NaN   -47.0   \n",
       "18     Burn in isn't even the biggest issue with OLED...         NaN   -45.0   \n",
       "19     No it doesn't. If you can't afford the phone u...         NaN   -45.0   \n",
       "20     The Essential Phone was announced on May 30. T...         NaN   -45.0   \n",
       "21     That’s because they are incorrectly counting t...         NaN   -45.0   \n",
       "22     Might as well compare it to the $40 Verizon mo...         NaN   -44.0   \n",
       "23     It's amazing I never felt like I needed a rest...         NaN   -43.0   \n",
       "24     That’s because they are incorrectly counting t...         NaN   -41.0   \n",
       "25     For a subreddit that seems to have a group men...         NaN   -40.0   \n",
       "26     Apple A 11 Bionic is a **TRUE 6 CORES** cpu, i...         NaN   -40.0   \n",
       "27     You know what? Samsung IS the BIGGEST Android ...         NaN   -40.0   \n",
       "28     You're comparing geekebench results from iOS t...         NaN   -39.0   \n",
       "29     This comment makes no sense, unless you mean t...         NaN   -38.0   \n",
       "...                                                  ...         ...     ...   \n",
       "49970  A little disappointing. While I welcome its ex...         NaN  1062.0   \n",
       "49971  You would think you'd get a notification/email...         NaN  1069.0   \n",
       "49972  Lineage OS:\\n\\nSettings - buttons - volume but...         NaN  1088.0   \n",
       "49973  Android 9.0 is supposed to come out next year,...         NaN  1147.0   \n",
       "49974  And the funniest thing is that thoughout your ...         NaN  1161.0   \n",
       "49975  Yeah a lot of people I know like to compare DS...         NaN  1183.0   \n",
       "49976  It's so sad that people actually fall for Clea...         NaN  1190.0   \n",
       "49977  Wish Google would have kept the Nexus line up ...         NaN  1191.0   \n",
       "49978  Why is everyone afraid of 9\\n\\n\\n\\nEdit: I get...         NaN  1316.0   \n",
       "49979  Only if it were news... They explicitly state ...         NaN  1326.0   \n",
       "49980  I agree. It's not like the essential phone whe...         NaN  1332.0   \n",
       "49981  You're going to sit there and I'm not going to...         NaN  1339.0   \n",
       "49982  They don't black out the sides of the camera c...         NaN  1370.0   \n",
       "49983  Lots of old iOS apps would test the OS version...         NaN  1517.0   \n",
       "49984  During i/o\\n\\n\\n\\nr/Android: OH FFS WE DIDN'T ...         NaN  1646.0   \n",
       "49985  /r/Android:\\n\\n\"wow that would be stupid, Goog...         NaN  1717.0   \n",
       "49986  I think this image says it all: https://pbs.tw...         NaN  1762.0   \n",
       "49987  You can see (or rather not see) it here: https...         NaN  1902.0   \n",
       "49988  That price point is atrocious. After using my ...         NaN  1955.0   \n",
       "49989  \"I buy Apple products for the Apple 'Ecosystem...         NaN  2108.0   \n",
       "49990  If I was an iPhone fan, I think I'd be upset t...         NaN  2170.0   \n",
       "49991  Am I mistaken or does video playback actually ...         NaN  2961.0   \n",
       "49992  Phone prices just keep on going up at the top ...         NaN  3154.0   \n",
       "49993  The FaceID tech looks way slower than TouchID....         NaN  3465.0   \n",
       "49994  HTC: \"Surprise! We sold the company to Lenovo ...         NaN  3502.0   \n",
       "49995  Not iPhone X, but I think it was good for Appl...         NaN  3693.0   \n",
       "49996  2016: We have the courage to remove the headph...         NaN  3889.0   \n",
       "49997  I think the fact that animojis is something Ap...         NaN  5445.0   \n",
       "49998  Except it's not, because what should happen at...         NaN  6781.0   \n",
       "49999  Pretty much what the leaks said it would be. T...         NaN  9142.0   \n",
       "\n",
       "      subreddit  \n",
       "0       Android  \n",
       "1       Android  \n",
       "2       Android  \n",
       "3       Android  \n",
       "4       Android  \n",
       "5       Android  \n",
       "6       Android  \n",
       "7       Android  \n",
       "8       Android  \n",
       "9       Android  \n",
       "10      Android  \n",
       "11      Android  \n",
       "12      Android  \n",
       "13      Android  \n",
       "14      Android  \n",
       "15      Android  \n",
       "16      Android  \n",
       "17      Android  \n",
       "18      Android  \n",
       "19      Android  \n",
       "20      Android  \n",
       "21      Android  \n",
       "22      Android  \n",
       "23      Android  \n",
       "24      Android  \n",
       "25      Android  \n",
       "26      Android  \n",
       "27      Android  \n",
       "28      Android  \n",
       "29      Android  \n",
       "...         ...  \n",
       "49970   Android  \n",
       "49971   Android  \n",
       "49972   Android  \n",
       "49973   Android  \n",
       "49974   Android  \n",
       "49975   Android  \n",
       "49976   Android  \n",
       "49977   Android  \n",
       "49978   Android  \n",
       "49979   Android  \n",
       "49980   Android  \n",
       "49981   Android  \n",
       "49982   Android  \n",
       "49983   Android  \n",
       "49984   Android  \n",
       "49985   Android  \n",
       "49986   Android  \n",
       "49987   Android  \n",
       "49988   Android  \n",
       "49989   Android  \n",
       "49990   Android  \n",
       "49991   Android  \n",
       "49992   Android  \n",
       "49993   Android  \n",
       "49994   Android  \n",
       "49995   Android  \n",
       "49996   Android  \n",
       "49997   Android  \n",
       "49998   Android  \n",
       "49999   Android  \n",
       "\n",
       "[50000 rows x 4 columns]"
      ]
     },
     "execution_count": 24,
     "metadata": {},
     "output_type": "execute_result"
    }
   ],
   "source": [
    "Android_df = Android_df.reset_index(drop=True)\n",
    "Android_df"
   ]
  },
  {
   "cell_type": "markdown",
   "metadata": {},
   "source": [
    "# set percentile\n",
    "\n",
    "I set an interger value in the percentile column.  The bottom third are 1, middle third 2 and top third 3."
   ]
  },
  {
   "cell_type": "code",
   "execution_count": 25,
   "metadata": {
    "collapsed": true
   },
   "outputs": [],
   "source": [
    "third = (len(Android_df)/3)\n",
    "iterator = 0\n",
    "for x in Android_df.percentile:\n",
    "    if(iterator < third):\n",
    "        Android_df.loc[iterator, 'percentile'] = 1\n",
    "    if(iterator >= third and iterator <= (third*2)):\n",
    "        Android_df.loc[iterator, 'percentile'] = 2\n",
    "    if(iterator > (third*2)):\n",
    "        Android_df.loc[iterator, 'percentile'] = 3\n",
    "    iterator = iterator + 1"
   ]
  },
  {
   "cell_type": "code",
   "execution_count": 26,
   "metadata": {
    "scrolled": false
   },
   "outputs": [
    {
     "name": "stdout",
     "output_type": "stream",
     "text": [
      "                                                    body  percentile   score  \\\n",
      "0      1. First world problems 2. If it is that incon...         1.0  -260.0   \n",
      "1      &gt;In India whenever there is any conflict, t...         1.0   -90.0   \n",
      "2      Oh, yeah? In what way this cheap peace of Chin...         1.0   -79.0   \n",
      "3      I can't stand spongebob memes. Maybe because I...         1.0   -78.0   \n",
      "4      All OLEDs are trash. Can't believe people stil...         1.0   -71.0   \n",
      "5      Google as a whole is a garbage company. They'v...         1.0   -69.0   \n",
      "6      Or...I don't know....quit relying on cellular ...         1.0   -68.0   \n",
      "7      Having a headphone jack has nothing to do with...         1.0   -62.0   \n",
      "8      No root required for theming, but now you have...         1.0   -60.0   \n",
      "9      Being a techy is absolutely no reason to buy a...         1.0   -57.0   \n",
      "10     So if I search for \"brain blocks\", a game call...         1.0   -57.0   \n",
      "11     The difference is that Google makes Android an...         1.0   -56.0   \n",
      "12     Tell that to everyone who has been getting alo...         1.0   -54.0   \n",
      "13     I gotta say, if I saw this on a spec sheet wit...         1.0   -54.0   \n",
      "14     I wouldn’t worry too much about it.  Samsung l...         1.0   -48.0   \n",
      "15     Omg shut up. Many of us have been using since ...         1.0   -48.0   \n",
      "16     &gt; Then there is the question of size: only ...         1.0   -48.0   \n",
      "17     I wouldn’t worry too much about it.  Samsung l...         1.0   -47.0   \n",
      "18     Burn in isn't even the biggest issue with OLED...         1.0   -45.0   \n",
      "19     No it doesn't. If you can't afford the phone u...         1.0   -45.0   \n",
      "20     The Essential Phone was announced on May 30. T...         1.0   -45.0   \n",
      "21     That’s because they are incorrectly counting t...         1.0   -45.0   \n",
      "22     Might as well compare it to the $40 Verizon mo...         1.0   -44.0   \n",
      "23     It's amazing I never felt like I needed a rest...         1.0   -43.0   \n",
      "24     That’s because they are incorrectly counting t...         1.0   -41.0   \n",
      "25     For a subreddit that seems to have a group men...         1.0   -40.0   \n",
      "26     Apple A 11 Bionic is a **TRUE 6 CORES** cpu, i...         1.0   -40.0   \n",
      "27     You know what? Samsung IS the BIGGEST Android ...         1.0   -40.0   \n",
      "28     You're comparing geekebench results from iOS t...         1.0   -39.0   \n",
      "29     This comment makes no sense, unless you mean t...         1.0   -38.0   \n",
      "...                                                  ...         ...     ...   \n",
      "49970  A little disappointing. While I welcome its ex...         3.0  1062.0   \n",
      "49971  You would think you'd get a notification/email...         3.0  1069.0   \n",
      "49972  Lineage OS:\\n\\nSettings - buttons - volume but...         3.0  1088.0   \n",
      "49973  Android 9.0 is supposed to come out next year,...         3.0  1147.0   \n",
      "49974  And the funniest thing is that thoughout your ...         3.0  1161.0   \n",
      "49975  Yeah a lot of people I know like to compare DS...         3.0  1183.0   \n",
      "49976  It's so sad that people actually fall for Clea...         3.0  1190.0   \n",
      "49977  Wish Google would have kept the Nexus line up ...         3.0  1191.0   \n",
      "49978  Why is everyone afraid of 9\\n\\n\\n\\nEdit: I get...         3.0  1316.0   \n",
      "49979  Only if it were news... They explicitly state ...         3.0  1326.0   \n",
      "49980  I agree. It's not like the essential phone whe...         3.0  1332.0   \n",
      "49981  You're going to sit there and I'm not going to...         3.0  1339.0   \n",
      "49982  They don't black out the sides of the camera c...         3.0  1370.0   \n",
      "49983  Lots of old iOS apps would test the OS version...         3.0  1517.0   \n",
      "49984  During i/o\\n\\n\\n\\nr/Android: OH FFS WE DIDN'T ...         3.0  1646.0   \n",
      "49985  /r/Android:\\n\\n\"wow that would be stupid, Goog...         3.0  1717.0   \n",
      "49986  I think this image says it all: https://pbs.tw...         3.0  1762.0   \n",
      "49987  You can see (or rather not see) it here: https...         3.0  1902.0   \n",
      "49988  That price point is atrocious. After using my ...         3.0  1955.0   \n",
      "49989  \"I buy Apple products for the Apple 'Ecosystem...         3.0  2108.0   \n",
      "49990  If I was an iPhone fan, I think I'd be upset t...         3.0  2170.0   \n",
      "49991  Am I mistaken or does video playback actually ...         3.0  2961.0   \n",
      "49992  Phone prices just keep on going up at the top ...         3.0  3154.0   \n",
      "49993  The FaceID tech looks way slower than TouchID....         3.0  3465.0   \n",
      "49994  HTC: \"Surprise! We sold the company to Lenovo ...         3.0  3502.0   \n",
      "49995  Not iPhone X, but I think it was good for Appl...         3.0  3693.0   \n",
      "49996  2016: We have the courage to remove the headph...         3.0  3889.0   \n",
      "49997  I think the fact that animojis is something Ap...         3.0  5445.0   \n",
      "49998  Except it's not, because what should happen at...         3.0  6781.0   \n",
      "49999  Pretty much what the leaks said it would be. T...         3.0  9142.0   \n",
      "\n",
      "      subreddit  \n",
      "0       Android  \n",
      "1       Android  \n",
      "2       Android  \n",
      "3       Android  \n",
      "4       Android  \n",
      "5       Android  \n",
      "6       Android  \n",
      "7       Android  \n",
      "8       Android  \n",
      "9       Android  \n",
      "10      Android  \n",
      "11      Android  \n",
      "12      Android  \n",
      "13      Android  \n",
      "14      Android  \n",
      "15      Android  \n",
      "16      Android  \n",
      "17      Android  \n",
      "18      Android  \n",
      "19      Android  \n",
      "20      Android  \n",
      "21      Android  \n",
      "22      Android  \n",
      "23      Android  \n",
      "24      Android  \n",
      "25      Android  \n",
      "26      Android  \n",
      "27      Android  \n",
      "28      Android  \n",
      "29      Android  \n",
      "...         ...  \n",
      "49970   Android  \n",
      "49971   Android  \n",
      "49972   Android  \n",
      "49973   Android  \n",
      "49974   Android  \n",
      "49975   Android  \n",
      "49976   Android  \n",
      "49977   Android  \n",
      "49978   Android  \n",
      "49979   Android  \n",
      "49980   Android  \n",
      "49981   Android  \n",
      "49982   Android  \n",
      "49983   Android  \n",
      "49984   Android  \n",
      "49985   Android  \n",
      "49986   Android  \n",
      "49987   Android  \n",
      "49988   Android  \n",
      "49989   Android  \n",
      "49990   Android  \n",
      "49991   Android  \n",
      "49992   Android  \n",
      "49993   Android  \n",
      "49994   Android  \n",
      "49995   Android  \n",
      "49996   Android  \n",
      "49997   Android  \n",
      "49998   Android  \n",
      "49999   Android  \n",
      "\n",
      "[50000 rows x 4 columns]\n"
     ]
    }
   ],
   "source": [
    "print(Android_df)"
   ]
  },
  {
   "cell_type": "markdown",
   "metadata": {},
   "source": [
    "# create model\n",
    "\n",
    "I created models for the new dataframes, changing the targets to the percentile column.  I also changed the min token frequency to 2, since this data set will be 1/8 the size of the main data set."
   ]
  },
  {
   "cell_type": "code",
   "execution_count": 27,
   "metadata": {},
   "outputs": [
    {
     "name": "stdout",
     "output_type": "stream",
     "text": [
      "1\n",
      "0.4131\n"
     ]
    }
   ],
   "source": [
    "reddit_vec = CountVectorizer(min_df=2, tokenizer=nltk.word_tokenize, lowercase=True, stop_words=fullset)\n",
    "\n",
    "z=0\n",
    "start=0\n",
    "iterator=0\n",
    "while(iterator<(1)):\n",
    "\n",
    "    iterator=iterator+1\n",
    "    print(iterator)\n",
    "    start=start+num_retreive\n",
    "    \n",
    "    y = Android_df['percentile']\n",
    "    \n",
    "    reddit_counts = reddit_vec.fit_transform(Android_df['body'])\n",
    "    tfidf_transformer = TfidfTransformer()\n",
    "    reddit_tfidf = tfidf_transformer.fit_transform(reddit_counts)\n",
    "\n",
    "    X = reddit_tfidf\n",
    "\n",
    "    X_train, X_test, y_train, y_test = train_test_split(X, y, test_size = 0.2, random_state = 0)\n",
    "    \n",
    "    classifier = MultinomialNB().partial_fit(X_train, y_train,classes=np.unique(y_train))\n",
    "    \n",
    "    y_pred = classifier.predict(X_test)\n",
    "\n",
    "    print(accuracy_score(y_test, y_pred))"
   ]
  },
  {
   "cell_type": "markdown",
   "metadata": {},
   "source": [
    "# accuracy\n",
    "\n",
    "The accuracy for these models are much worse then when we were predicting subreddit.  "
   ]
  },
  {
   "cell_type": "code",
   "execution_count": 28,
   "metadata": {},
   "outputs": [
    {
     "data": {
      "image/png": "[encoded data removed]",
      "text/plain": [
       "<matplotlib.figure.Figure at 0x67857c0390>"
      ]
     },
     "metadata": {},
     "output_type": "display_data"
    }
   ],
   "source": [
    "cm = confusion_matrix(y_test, y_pred)\n",
    "\n",
    "sns.heatmap(cm.T, square=True, annot=True, fmt='d', cbar=False,\n",
    "            xticklabels=['3','2','1'], \n",
    "            yticklabels=['3','2','1'])\n",
    "plt.xlabel('true label')\n",
    "plt.ylabel('predicted label')\n",
    "plt.show()"
   ]
  },
  {
   "cell_type": "markdown",
   "metadata": {},
   "source": [
    "# save csv\n",
    "\n",
    "I saved all of the top_100 dataframes as csv files"
   ]
  },
  {
   "cell_type": "code",
   "execution_count": 29,
   "metadata": {
    "scrolled": true
   },
   "outputs": [],
   "source": [
    "temp_df = return_top100_score(reddit_vec, classifier, class_labels=np.unique(y_train))\n",
    "temp_df.to_csv(\"csv_files\\Android_top_unigrams.csv\")"
   ]
  },
  {
   "cell_type": "markdown",
   "metadata": {},
   "source": [
    "# bigram model\n",
    "\n",
    "Repeated model but with bigrams"
   ]
  },
  {
   "cell_type": "code",
   "execution_count": 30,
   "metadata": {},
   "outputs": [
    {
     "name": "stdout",
     "output_type": "stream",
     "text": [
      "1\n",
      "0.4217\n"
     ]
    }
   ],
   "source": [
    "reddit_vec = CountVectorizer(ngram_range=(2,2), min_df=2, tokenizer=nltk.word_tokenize, lowercase=True, stop_words=fullset)\n",
    "\n",
    "z=0\n",
    "start=0\n",
    "iterator=0\n",
    "while(iterator<(1)):\n",
    "\n",
    "    iterator=iterator+1\n",
    "    print(iterator)\n",
    "    start=start+num_retreive\n",
    "    \n",
    "    y = Android_df['percentile']\n",
    "    \n",
    "    reddit_counts = reddit_vec.fit_transform(Android_df['body'])\n",
    "    tfidf_transformer = TfidfTransformer()\n",
    "    reddit_tfidf = tfidf_transformer.fit_transform(reddit_counts)\n",
    "\n",
    "    X = reddit_tfidf\n",
    "\n",
    "    X_train, X_test, y_train, y_test = train_test_split(X, y, test_size = 0.2, random_state = 0)\n",
    "    \n",
    "    classifier = MultinomialNB().partial_fit(X_train, y_train,classes=np.unique(y_train))\n",
    "    \n",
    "    y_pred = classifier.predict(X_test)\n",
    "\n",
    "    print(accuracy_score(y_test, y_pred))"
   ]
  },
  {
   "cell_type": "code",
   "execution_count": 31,
   "metadata": {},
   "outputs": [
    {
     "data": {
      "image/png": "[encoded data removed]",
      "text/plain": [
       "<matplotlib.figure.Figure at 0x67b2375240>"
      ]
     },
     "metadata": {},
     "output_type": "display_data"
    }
   ],
   "source": [
    "cm = confusion_matrix(y_test, y_pred)\n",
    "\n",
    "sns.heatmap(cm.T, square=True, annot=True, fmt='d', cbar=False,\n",
    "            xticklabels=['3','2','1'], \n",
    "            yticklabels=['3','2','1'])\n",
    "plt.xlabel('true label')\n",
    "plt.ylabel('predicted label')\n",
    "plt.show()"
   ]
  },
  {
   "cell_type": "code",
   "execution_count": 32,
   "metadata": {
    "scrolled": false
   },
   "outputs": [],
   "source": [
    "temp_df = return_top100_score(reddit_vec, classifier, class_labels=np.unique(y_train))\n",
    "temp_df.to_csv(\"csv_files\\Android_top_bigrams.csv\")"
   ]
  },
  {
   "cell_type": "markdown",
   "metadata": {},
   "source": [
    "# repeat\n",
    "\n",
    "I repeated the above steps for each of the subreddits, saving the returned top_100 dataframes as csv files."
   ]
  },
  {
   "cell_type": "code",
   "execution_count": 33,
   "metadata": {
    "collapsed": true
   },
   "outputs": [],
   "source": [
    "boardgames_df = reddit_df[reddit_df.subreddit == 'boardgames']\n",
    "boardgames_df = boardgames_df.sort_values(['score'])\n",
    "boardgames_df = boardgames_df.reset_index(drop=True)\n",
    "\n",
    "third = (len(boardgames_df)/3)\n",
    "iterator = 0\n",
    "for x in boardgames_df.percentile:\n",
    "    if(iterator < third):\n",
    "        boardgames_df.loc[iterator, 'percentile'] = 1\n",
    "    if(iterator >= third and iterator <= (third*2)):\n",
    "        boardgames_df.loc[iterator, 'percentile'] = 2\n",
    "    if(iterator > (third*2)):\n",
    "        boardgames_df.loc[iterator, 'percentile'] = 3\n",
    "    iterator = iterator + 1"
   ]
  },
  {
   "cell_type": "code",
   "execution_count": 34,
   "metadata": {},
   "outputs": [
    {
     "name": "stdout",
     "output_type": "stream",
     "text": [
      "1\n",
      "0.4073\n"
     ]
    }
   ],
   "source": [
    "reddit_vec = CountVectorizer(min_df=2, tokenizer=nltk.word_tokenize, lowercase=True, stop_words=fullset)\n",
    "\n",
    "z=0\n",
    "start=0\n",
    "iterator=0\n",
    "while(iterator<(1)):\n",
    "\n",
    "    iterator=iterator+1\n",
    "    print(iterator)\n",
    "    start=start+num_retreive\n",
    "    \n",
    "    y = boardgames_df['percentile']\n",
    "    \n",
    "    reddit_counts = reddit_vec.fit_transform(boardgames_df['body'])\n",
    "    tfidf_transformer = TfidfTransformer()\n",
    "    reddit_tfidf = tfidf_transformer.fit_transform(reddit_counts)\n",
    "\n",
    "    X = reddit_tfidf\n",
    "\n",
    "    X_train, X_test, y_train, y_test = train_test_split(X, y, test_size = 0.2, random_state = 0)\n",
    "    \n",
    "    classifier = MultinomialNB().partial_fit(X_train, y_train,classes=np.unique(y_train))\n",
    "    \n",
    "    y_pred = classifier.predict(X_test)\n",
    "\n",
    "    print(accuracy_score(y_test, y_pred))"
   ]
  },
  {
   "cell_type": "code",
   "execution_count": 35,
   "metadata": {
    "scrolled": true
   },
   "outputs": [
    {
     "data": {
      "image/png": "[encoded data removed]",
      "text/plain": [
       "<matplotlib.figure.Figure at 0x67b3e6e0b8>"
      ]
     },
     "metadata": {},
     "output_type": "display_data"
    }
   ],
   "source": [
    "cm = confusion_matrix(y_test, y_pred)\n",
    "\n",
    "sns.heatmap(cm.T, square=True, annot=True, fmt='d', cbar=False,\n",
    "            xticklabels=['3','2','1'], \n",
    "            yticklabels=['3','2','1'])\n",
    "plt.xlabel('true label')\n",
    "plt.ylabel('predicted label')\n",
    "plt.show()"
   ]
  },
  {
   "cell_type": "code",
   "execution_count": 36,
   "metadata": {},
   "outputs": [],
   "source": [
    "temp_df = return_top100_score(reddit_vec, classifier, class_labels=np.unique(y_train))\n",
    "temp_df.to_csv(\"csv_files\\\\boardgames_top_unigrams.csv\")"
   ]
  },
  {
   "cell_type": "code",
   "execution_count": 37,
   "metadata": {},
   "outputs": [
    {
     "name": "stdout",
     "output_type": "stream",
     "text": [
      "1\n",
      "0.4094\n"
     ]
    }
   ],
   "source": [
    "reddit_vec = CountVectorizer(ngram_range=(2,2), min_df=2, tokenizer=nltk.word_tokenize, lowercase=True, stop_words=fullset)\n",
    "\n",
    "z=0\n",
    "start=0\n",
    "iterator=0\n",
    "while(iterator<(1)):\n",
    "\n",
    "    iterator=iterator+1\n",
    "    print(iterator)\n",
    "    start=start+num_retreive\n",
    "    \n",
    "    y = boardgames_df['percentile']\n",
    "    \n",
    "    reddit_counts = reddit_vec.fit_transform(boardgames_df['body'])\n",
    "    tfidf_transformer = TfidfTransformer()\n",
    "    reddit_tfidf = tfidf_transformer.fit_transform(reddit_counts)\n",
    "\n",
    "    X = reddit_tfidf\n",
    "\n",
    "    X_train, X_test, y_train, y_test = train_test_split(X, y, test_size = 0.2, random_state = 0)\n",
    "    \n",
    "    classifier = MultinomialNB().partial_fit(X_train, y_train,classes=np.unique(y_train))\n",
    "    \n",
    "    y_pred = classifier.predict(X_test)\n",
    "\n",
    "    print(accuracy_score(y_test, y_pred))"
   ]
  },
  {
   "cell_type": "code",
   "execution_count": 38,
   "metadata": {
    "scrolled": true
   },
   "outputs": [
    {
     "data": {
      "image/png": "[encoded data removed]",
      "text/plain": [
       "<matplotlib.figure.Figure at 0x67b8010128>"
      ]
     },
     "metadata": {},
     "output_type": "display_data"
    }
   ],
   "source": [
    "cm = confusion_matrix(y_test, y_pred)\n",
    "\n",
    "sns.heatmap(cm.T, square=True, annot=True, fmt='d', cbar=False,\n",
    "            xticklabels=['3','2','1'], \n",
    "            yticklabels=['3','2','1'])\n",
    "plt.xlabel('true label')\n",
    "plt.ylabel('predicted label')\n",
    "plt.show()"
   ]
  },
  {
   "cell_type": "code",
   "execution_count": 39,
   "metadata": {},
   "outputs": [],
   "source": [
    "temp_df = return_top100_score(reddit_vec, classifier, class_labels=np.unique(y_train))\n",
    "temp_df.to_csv(\"csv_files\\\\boardgames_top_bigrams.csv\")"
   ]
  },
  {
   "cell_type": "code",
   "execution_count": 40,
   "metadata": {
    "collapsed": true
   },
   "outputs": [],
   "source": [
    "Conservative_df = reddit_df[reddit_df.subreddit == 'Conservative']\n",
    "Conservative_df = Conservative_df.sort_values(['score'])\n",
    "Conservative_df = Conservative_df.reset_index(drop=True)\n",
    "\n",
    "third = (len(Conservative_df)/3)\n",
    "iterator = 0\n",
    "for x in Conservative_df.percentile:\n",
    "    if(iterator < third):\n",
    "        Conservative_df.loc[iterator, 'percentile'] = 1\n",
    "    if(iterator >= third and iterator <= (third*2)):\n",
    "        Conservative_df.loc[iterator, 'percentile'] = 2\n",
    "    if(iterator > (third*2)):\n",
    "        Conservative_df.loc[iterator, 'percentile'] = 3\n",
    "    iterator = iterator + 1"
   ]
  },
  {
   "cell_type": "code",
   "execution_count": 41,
   "metadata": {},
   "outputs": [
    {
     "name": "stdout",
     "output_type": "stream",
     "text": [
      "1\n",
      "0.4044\n"
     ]
    }
   ],
   "source": [
    "reddit_vec = CountVectorizer(min_df=2, tokenizer=nltk.word_tokenize, lowercase=True, stop_words=fullset)\n",
    "\n",
    "z=0\n",
    "start=0\n",
    "iterator=0\n",
    "while(iterator<(1)):\n",
    "\n",
    "    iterator=iterator+1\n",
    "    print(iterator)\n",
    "    start=start+num_retreive\n",
    "    \n",
    "    y = Conservative_df['percentile']\n",
    "    \n",
    "    reddit_counts = reddit_vec.fit_transform(Conservative_df['body'])\n",
    "    tfidf_transformer = TfidfTransformer()\n",
    "    reddit_tfidf = tfidf_transformer.fit_transform(reddit_counts)\n",
    "\n",
    "    X = reddit_tfidf\n",
    "\n",
    "    X_train, X_test, y_train, y_test = train_test_split(X, y, test_size = 0.2, random_state = 0)\n",
    "    \n",
    "    classifier = MultinomialNB().partial_fit(X_train, y_train,classes=np.unique(y_train))\n",
    "    \n",
    "    y_pred = classifier.predict(X_test)\n",
    "\n",
    "    print(accuracy_score(y_test, y_pred))"
   ]
  },
  {
   "cell_type": "code",
   "execution_count": 42,
   "metadata": {
    "scrolled": true
   },
   "outputs": [
    {
     "data": {
      "image/png": "[encoded data removed]",
      "text/plain": [
       "<matplotlib.figure.Figure at 0x67b237c128>"
      ]
     },
     "metadata": {},
     "output_type": "display_data"
    }
   ],
   "source": [
    "cm = confusion_matrix(y_test, y_pred)\n",
    "\n",
    "sns.heatmap(cm.T, square=True, annot=True, fmt='d', cbar=False,\n",
    "            xticklabels=['3','2','1'], \n",
    "            yticklabels=['3','2','1'])\n",
    "plt.xlabel('true label')\n",
    "plt.ylabel('predicted label')\n",
    "plt.show()"
   ]
  },
  {
   "cell_type": "code",
   "execution_count": 43,
   "metadata": {
    "collapsed": true
   },
   "outputs": [],
   "source": [
    "temp_df = return_top100_score(reddit_vec, classifier, class_labels=np.unique(y_train))\n",
    "temp_df.to_csv(\"csv_files\\Conservative_top_unigrams.csv\")"
   ]
  },
  {
   "cell_type": "code",
   "execution_count": 44,
   "metadata": {},
   "outputs": [
    {
     "name": "stdout",
     "output_type": "stream",
     "text": [
      "1\n",
      "0.3992\n"
     ]
    }
   ],
   "source": [
    "reddit_vec = CountVectorizer(ngram_range=(2,2), min_df=2, tokenizer=nltk.word_tokenize, lowercase=True, stop_words=fullset)\n",
    "\n",
    "z=0\n",
    "start=0\n",
    "iterator=0\n",
    "while(iterator<(1)):\n",
    "\n",
    "    iterator=iterator+1\n",
    "    print(iterator)\n",
    "    start=start+num_retreive\n",
    "    \n",
    "    y = Conservative_df['percentile']\n",
    "    \n",
    "    reddit_counts = reddit_vec.fit_transform(Conservative_df['body'])\n",
    "    tfidf_transformer = TfidfTransformer()\n",
    "    reddit_tfidf = tfidf_transformer.fit_transform(reddit_counts)\n",
    "\n",
    "    X = reddit_tfidf\n",
    "\n",
    "    X_train, X_test, y_train, y_test = train_test_split(X, y, test_size = 0.2, random_state = 0)\n",
    "    \n",
    "    classifier = MultinomialNB().partial_fit(X_train, y_train,classes=np.unique(y_train))\n",
    "    \n",
    "    y_pred = classifier.predict(X_test)\n",
    "\n",
    "    print(accuracy_score(y_test, y_pred))"
   ]
  },
  {
   "cell_type": "code",
   "execution_count": 45,
   "metadata": {
    "scrolled": true
   },
   "outputs": [
    {
     "data": {
      "image/png": "[encoded data removed]",
      "text/plain": [
       "<matplotlib.figure.Figure at 0x67b065c400>"
      ]
     },
     "metadata": {},
     "output_type": "display_data"
    }
   ],
   "source": [
    "cm = confusion_matrix(y_test, y_pred)\n",
    "\n",
    "sns.heatmap(cm.T, square=True, annot=True, fmt='d', cbar=False,\n",
    "            xticklabels=['3','2','1'], \n",
    "            yticklabels=['3','2','1'])\n",
    "plt.xlabel('true label')\n",
    "plt.ylabel('predicted label')\n",
    "plt.show()"
   ]
  },
  {
   "cell_type": "code",
   "execution_count": 46,
   "metadata": {
    "collapsed": true
   },
   "outputs": [],
   "source": [
    "temp_df = return_top100_score(reddit_vec, classifier, class_labels=np.unique(y_train))\n",
    "temp_df.to_csv(\"csv_files\\Conservative_top_bigrams.csv\")"
   ]
  },
  {
   "cell_type": "code",
   "execution_count": 47,
   "metadata": {
    "collapsed": true
   },
   "outputs": [],
   "source": [
    "hockey_df = reddit_df[reddit_df.subreddit == 'hockey']\n",
    "hockey_df = hockey_df.sort_values(['score'])\n",
    "hockey_df = hockey_df.reset_index(drop=True)\n",
    "\n",
    "third = (len(hockey_df)/3)\n",
    "iterator = 0\n",
    "for x in hockey_df.percentile:\n",
    "    if(iterator < third):\n",
    "        hockey_df.loc[iterator, 'percentile'] = 1\n",
    "    if(iterator >= third and iterator <= (third*2)):\n",
    "        hockey_df.loc[iterator, 'percentile'] = 2\n",
    "    if(iterator > (third*2)):\n",
    "        hockey_df.loc[iterator, 'percentile'] = 3\n",
    "    iterator = iterator + 1"
   ]
  },
  {
   "cell_type": "code",
   "execution_count": 48,
   "metadata": {},
   "outputs": [
    {
     "name": "stdout",
     "output_type": "stream",
     "text": [
      "1\n",
      "0.4095\n"
     ]
    }
   ],
   "source": [
    "reddit_vec = CountVectorizer(min_df=2, tokenizer=nltk.word_tokenize, lowercase=True, stop_words=fullset)\n",
    "\n",
    "z=0\n",
    "start=0\n",
    "iterator=0\n",
    "while(iterator<(1)):\n",
    "\n",
    "    iterator=iterator+1\n",
    "    print(iterator)\n",
    "    start=start+num_retreive\n",
    "    \n",
    "    y = hockey_df['percentile']\n",
    "    \n",
    "    reddit_counts = reddit_vec.fit_transform(hockey_df['body'])\n",
    "    tfidf_transformer = TfidfTransformer()\n",
    "    reddit_tfidf = tfidf_transformer.fit_transform(reddit_counts)\n",
    "\n",
    "    X = reddit_tfidf\n",
    "\n",
    "    X_train, X_test, y_train, y_test = train_test_split(X, y, test_size = 0.2, random_state = 0)\n",
    "    \n",
    "    classifier = MultinomialNB().partial_fit(X_train, y_train,classes=np.unique(y_train))\n",
    "    \n",
    "    y_pred = classifier.predict(X_test)\n",
    "\n",
    "    print(accuracy_score(y_test, y_pred))"
   ]
  },
  {
   "cell_type": "code",
   "execution_count": 49,
   "metadata": {
    "scrolled": true
   },
   "outputs": [
    {
     "data": {
      "image/png": "[encoded data removed]",
      "text/plain": [
       "<matplotlib.figure.Figure at 0x67b1822da0>"
      ]
     },
     "metadata": {},
     "output_type": "display_data"
    }
   ],
   "source": [
    "cm = confusion_matrix(y_test, y_pred)\n",
    "\n",
    "sns.heatmap(cm.T, square=True, annot=True, fmt='d', cbar=False,\n",
    "            xticklabels=['3','2','1'], \n",
    "            yticklabels=['3','2','1'])\n",
    "plt.xlabel('true label')\n",
    "plt.ylabel('predicted label')\n",
    "plt.show()"
   ]
  },
  {
   "cell_type": "code",
   "execution_count": 50,
   "metadata": {
    "collapsed": true
   },
   "outputs": [],
   "source": [
    "temp_df = return_top100_score(reddit_vec, classifier, class_labels=np.unique(y_train))\n",
    "temp_df.to_csv(\"csv_files\\hockey_top_unigrams.csv\")"
   ]
  },
  {
   "cell_type": "code",
   "execution_count": 51,
   "metadata": {},
   "outputs": [
    {
     "name": "stdout",
     "output_type": "stream",
     "text": [
      "1\n",
      "0.4055\n"
     ]
    }
   ],
   "source": [
    "reddit_vec = CountVectorizer(ngram_range=(2,2), min_df=2, tokenizer=nltk.word_tokenize, lowercase=True, stop_words=fullset)\n",
    "\n",
    "z=0\n",
    "start=0\n",
    "iterator=0\n",
    "while(iterator<(1)):\n",
    "\n",
    "    iterator=iterator+1\n",
    "    print(iterator)\n",
    "    start=start+num_retreive\n",
    "    \n",
    "    y = hockey_df['percentile']\n",
    "    \n",
    "    reddit_counts = reddit_vec.fit_transform(hockey_df['body'])\n",
    "    tfidf_transformer = TfidfTransformer()\n",
    "    reddit_tfidf = tfidf_transformer.fit_transform(reddit_counts)\n",
    "\n",
    "    X = reddit_tfidf\n",
    "\n",
    "    X_train, X_test, y_train, y_test = train_test_split(X, y, test_size = 0.2, random_state = 0)\n",
    "    \n",
    "    classifier = MultinomialNB().partial_fit(X_train, y_train,classes=np.unique(y_train))\n",
    "    \n",
    "    y_pred = classifier.predict(X_test)\n",
    "\n",
    "    print(accuracy_score(y_test, y_pred))"
   ]
  },
  {
   "cell_type": "code",
   "execution_count": 52,
   "metadata": {
    "scrolled": true
   },
   "outputs": [
    {
     "data": {
      "image/png": "[encoded data removed]",
      "text/plain": [
       "<matplotlib.figure.Figure at 0x67b7b3e160>"
      ]
     },
     "metadata": {},
     "output_type": "display_data"
    }
   ],
   "source": [
    "cm = confusion_matrix(y_test, y_pred)\n",
    "\n",
    "sns.heatmap(cm.T, square=True, annot=True, fmt='d', cbar=False,\n",
    "            xticklabels=['3','2','1'], \n",
    "            yticklabels=['3','2','1'])\n",
    "plt.xlabel('true label')\n",
    "plt.ylabel('predicted label')\n",
    "plt.show()"
   ]
  },
  {
   "cell_type": "code",
   "execution_count": 53,
   "metadata": {
    "collapsed": true
   },
   "outputs": [],
   "source": [
    "temp_df = return_top100_score(reddit_vec, classifier, class_labels=np.unique(y_train))\n",
    "temp_df.to_csv(\"csv_files\\hockey_top_bigrams.csv\")"
   ]
  },
  {
   "cell_type": "code",
   "execution_count": 54,
   "metadata": {
    "collapsed": true
   },
   "outputs": [],
   "source": [
    "Libertarian_df = reddit_df[reddit_df.subreddit == 'Libertarian']\n",
    "Libertarian_df = Libertarian_df.sort_values(['score'])\n",
    "Libertarian_df = Libertarian_df.reset_index(drop=True)\n",
    "\n",
    "third = (len(Libertarian_df)/3)\n",
    "iterator = 0\n",
    "for x in Libertarian_df.percentile:\n",
    "    if(iterator < third):\n",
    "        Libertarian_df.loc[iterator, 'percentile'] = 1\n",
    "    if(iterator >= third and iterator <= (third*2)):\n",
    "        Libertarian_df.loc[iterator, 'percentile'] = 2\n",
    "    if(iterator > (third*2)):\n",
    "        Libertarian_df.loc[iterator, 'percentile'] = 3\n",
    "    iterator = iterator + 1"
   ]
  },
  {
   "cell_type": "code",
   "execution_count": 55,
   "metadata": {},
   "outputs": [
    {
     "name": "stdout",
     "output_type": "stream",
     "text": [
      "1\n",
      "0.4399\n"
     ]
    }
   ],
   "source": [
    "reddit_vec = CountVectorizer(min_df=2, tokenizer=nltk.word_tokenize, lowercase=True, stop_words=fullset)\n",
    "\n",
    "z=0\n",
    "start=0\n",
    "iterator=0\n",
    "while(iterator<(1)):\n",
    "\n",
    "    iterator=iterator+1\n",
    "    print(iterator)\n",
    "    start=start+num_retreive\n",
    "    \n",
    "    y = Libertarian_df['percentile']\n",
    "    \n",
    "    reddit_counts = reddit_vec.fit_transform(Libertarian_df['body'])\n",
    "    tfidf_transformer = TfidfTransformer()\n",
    "    reddit_tfidf = tfidf_transformer.fit_transform(reddit_counts)\n",
    "\n",
    "    X = reddit_tfidf\n",
    "\n",
    "    X_train, X_test, y_train, y_test = train_test_split(X, y, test_size = 0.2, random_state = 0)\n",
    "    \n",
    "    classifier = MultinomialNB().partial_fit(X_train, y_train,classes=np.unique(y_train))\n",
    "    \n",
    "    y_pred = classifier.predict(X_test)\n",
    "\n",
    "    print(accuracy_score(y_test, y_pred))"
   ]
  },
  {
   "cell_type": "code",
   "execution_count": 56,
   "metadata": {
    "scrolled": true
   },
   "outputs": [
    {
     "data": {
      "image/png": "[encoded data removed]",
      "text/plain": [
       "<matplotlib.figure.Figure at 0x67b5d4d0f0>"
      ]
     },
     "metadata": {},
     "output_type": "display_data"
    }
   ],
   "source": [
    "cm = confusion_matrix(y_test, y_pred)\n",
    "\n",
    "sns.heatmap(cm.T, square=True, annot=True, fmt='d', cbar=False,\n",
    "            xticklabels=['3','2','1'], \n",
    "            yticklabels=['3','2','1'])\n",
    "plt.xlabel('true label')\n",
    "plt.ylabel('predicted label')\n",
    "plt.show()"
   ]
  },
  {
   "cell_type": "code",
   "execution_count": 57,
   "metadata": {
    "collapsed": true
   },
   "outputs": [],
   "source": [
    "temp_df = return_top100_score(reddit_vec, classifier, class_labels=np.unique(y_train))\n",
    "temp_df.to_csv(\"csv_files\\Libertarian_top_unigrams.csv\")"
   ]
  },
  {
   "cell_type": "code",
   "execution_count": 58,
   "metadata": {},
   "outputs": [
    {
     "name": "stdout",
     "output_type": "stream",
     "text": [
      "1\n",
      "0.4566\n"
     ]
    }
   ],
   "source": [
    "reddit_vec = CountVectorizer(ngram_range=(2,2), min_df=2, tokenizer=nltk.word_tokenize, lowercase=True, stop_words=fullset)\n",
    "\n",
    "z=0\n",
    "start=0\n",
    "iterator=0\n",
    "while(iterator<(1)):\n",
    "\n",
    "    iterator=iterator+1\n",
    "    print(iterator)\n",
    "    start=start+num_retreive\n",
    "    \n",
    "    y = Libertarian_df['percentile']\n",
    "    \n",
    "    reddit_counts = reddit_vec.fit_transform(Libertarian_df['body'])\n",
    "    tfidf_transformer = TfidfTransformer()\n",
    "    reddit_tfidf = tfidf_transformer.fit_transform(reddit_counts)\n",
    "\n",
    "    X = reddit_tfidf\n",
    "\n",
    "    X_train, X_test, y_train, y_test = train_test_split(X, y, test_size = 0.2, random_state = 0)\n",
    "    \n",
    "    classifier = MultinomialNB().partial_fit(X_train, y_train,classes=np.unique(y_train))\n",
    "    \n",
    "    y_pred = classifier.predict(X_test)\n",
    "\n",
    "    print(accuracy_score(y_test, y_pred))"
   ]
  },
  {
   "cell_type": "code",
   "execution_count": 59,
   "metadata": {
    "scrolled": true
   },
   "outputs": [
    {
     "data": {
      "image/png": "[encoded data removed]",
      "text/plain": [
       "<matplotlib.figure.Figure at 0x67bad912b0>"
      ]
     },
     "metadata": {},
     "output_type": "display_data"
    }
   ],
   "source": [
    "cm = confusion_matrix(y_test, y_pred)\n",
    "\n",
    "sns.heatmap(cm.T, square=True, annot=True, fmt='d', cbar=False,\n",
    "            xticklabels=['3','2','1'], \n",
    "            yticklabels=['3','2','1'])\n",
    "plt.xlabel('true label')\n",
    "plt.ylabel('predicted label')\n",
    "plt.show()"
   ]
  },
  {
   "cell_type": "code",
   "execution_count": 60,
   "metadata": {
    "collapsed": true
   },
   "outputs": [],
   "source": [
    "temp_df = return_top100_score(reddit_vec, classifier, class_labels=np.unique(y_train))\n",
    "temp_df.to_csv(\"csv_files\\Libertarian_top_bigrams.csv\")"
   ]
  },
  {
   "cell_type": "code",
   "execution_count": 61,
   "metadata": {
    "collapsed": true
   },
   "outputs": [],
   "source": [
    "neoliberal_df = reddit_df[reddit_df.subreddit == 'neoliberal']\n",
    "neoliberal_df = neoliberal_df.sort_values(['score'])\n",
    "neoliberal_df = neoliberal_df.reset_index(drop=True)\n",
    "\n",
    "third = (len(neoliberal_df)/3)\n",
    "iterator = 0\n",
    "for x in neoliberal_df.percentile:\n",
    "    if(iterator < third):\n",
    "        neoliberal_df.loc[iterator, 'percentile'] = 1\n",
    "    if(iterator >= third and iterator <= (third*2)):\n",
    "        neoliberal_df.loc[iterator, 'percentile'] = 2\n",
    "    if(iterator > (third*2)):\n",
    "        neoliberal_df.loc[iterator, 'percentile'] = 3\n",
    "    iterator = iterator + 1"
   ]
  },
  {
   "cell_type": "code",
   "execution_count": 62,
   "metadata": {},
   "outputs": [
    {
     "name": "stdout",
     "output_type": "stream",
     "text": [
      "1\n",
      "0.4596\n"
     ]
    }
   ],
   "source": [
    "reddit_vec = CountVectorizer(min_df=2, tokenizer=nltk.word_tokenize, lowercase=True, stop_words=fullset)\n",
    "\n",
    "z=0\n",
    "start=0\n",
    "iterator=0\n",
    "while(iterator<(1)):\n",
    "\n",
    "    iterator=iterator+1\n",
    "    print(iterator)\n",
    "    start=start+num_retreive\n",
    "    \n",
    "    y = neoliberal_df['percentile']\n",
    "    \n",
    "    reddit_counts = reddit_vec.fit_transform(neoliberal_df['body'])\n",
    "    tfidf_transformer = TfidfTransformer()\n",
    "    reddit_tfidf = tfidf_transformer.fit_transform(reddit_counts)\n",
    "\n",
    "    X = reddit_tfidf\n",
    "\n",
    "    X_train, X_test, y_train, y_test = train_test_split(X, y, test_size = 0.2, random_state = 0)\n",
    "    \n",
    "    classifier = MultinomialNB().partial_fit(X_train, y_train,classes=np.unique(y_train))\n",
    "    \n",
    "    y_pred = classifier.predict(X_test)\n",
    "\n",
    "    print(accuracy_score(y_test, y_pred))"
   ]
  },
  {
   "cell_type": "code",
   "execution_count": 63,
   "metadata": {
    "scrolled": true
   },
   "outputs": [
    {
     "data": {
      "image/png": "[encoded data removed]",
      "text/plain": [
       "<matplotlib.figure.Figure at 0x67b1f11f60>"
      ]
     },
     "metadata": {},
     "output_type": "display_data"
    }
   ],
   "source": [
    "cm = confusion_matrix(y_test, y_pred)\n",
    "\n",
    "sns.heatmap(cm.T, square=True, annot=True, fmt='d', cbar=False,\n",
    "            xticklabels=['3','2','1'], \n",
    "            yticklabels=['3','2','1'])\n",
    "plt.xlabel('true label')\n",
    "plt.ylabel('predicted label')\n",
    "plt.show()"
   ]
  },
  {
   "cell_type": "code",
   "execution_count": 64,
   "metadata": {},
   "outputs": [],
   "source": [
    "temp_df = return_top100_score(reddit_vec, classifier, class_labels=np.unique(y_train))\n",
    "temp_df.to_csv(\"csv_files\\\\neoliberal_top_unigrams.csv\")"
   ]
  },
  {
   "cell_type": "code",
   "execution_count": 65,
   "metadata": {},
   "outputs": [
    {
     "name": "stdout",
     "output_type": "stream",
     "text": [
      "1\n",
      "0.4461\n"
     ]
    }
   ],
   "source": [
    "reddit_vec = CountVectorizer(ngram_range=(2,2), min_df=2, tokenizer=nltk.word_tokenize, lowercase=True, stop_words=fullset)\n",
    "\n",
    "z=0\n",
    "start=0\n",
    "iterator=0\n",
    "while(iterator<(1)):\n",
    "\n",
    "    iterator=iterator+1\n",
    "    print(iterator)\n",
    "    start=start+num_retreive\n",
    "    \n",
    "    y = neoliberal_df['percentile']\n",
    "    \n",
    "    reddit_counts = reddit_vec.fit_transform(neoliberal_df['body'])\n",
    "    tfidf_transformer = TfidfTransformer()\n",
    "    reddit_tfidf = tfidf_transformer.fit_transform(reddit_counts)\n",
    "\n",
    "    X = reddit_tfidf\n",
    "\n",
    "    X_train, X_test, y_train, y_test = train_test_split(X, y, test_size = 0.2, random_state = 0)\n",
    "    \n",
    "    classifier = MultinomialNB().partial_fit(X_train, y_train,classes=np.unique(y_train))\n",
    "    \n",
    "    y_pred = classifier.predict(X_test)\n",
    "\n",
    "    print(accuracy_score(y_test, y_pred))"
   ]
  },
  {
   "cell_type": "code",
   "execution_count": 66,
   "metadata": {
    "scrolled": true
   },
   "outputs": [
    {
     "data": {
      "image/png": "[encoded data removed]",
      "text/plain": [
       "<matplotlib.figure.Figure at 0x67b18d7390>"
      ]
     },
     "metadata": {},
     "output_type": "display_data"
    }
   ],
   "source": [
    "cm = confusion_matrix(y_test, y_pred)\n",
    "\n",
    "sns.heatmap(cm.T, square=True, annot=True, fmt='d', cbar=False,\n",
    "            xticklabels=['3','2','1'], \n",
    "            yticklabels=['3','2','1'])\n",
    "plt.xlabel('true label')\n",
    "plt.ylabel('predicted label')\n",
    "plt.show()"
   ]
  },
  {
   "cell_type": "code",
   "execution_count": 67,
   "metadata": {},
   "outputs": [],
   "source": [
    "temp_df = return_top100_score(reddit_vec, classifier, class_labels=np.unique(y_train))\n",
    "temp_df.to_csv(\"csv_files\\\\neoliberal_top_bigrams.csv\")"
   ]
  },
  {
   "cell_type": "code",
   "execution_count": 68,
   "metadata": {
    "collapsed": true
   },
   "outputs": [],
   "source": [
    "politics_df = reddit_df[reddit_df.subreddit == 'politics']\n",
    "politics_df = politics_df.sort_values(['score'])\n",
    "politics_df = politics_df.reset_index(drop=True)\n",
    "\n",
    "third = (len(politics_df)/3)\n",
    "iterator = 0\n",
    "for x in politics_df.percentile:\n",
    "    if(iterator < third):\n",
    "        politics_df.loc[iterator, 'percentile'] = 1\n",
    "    if(iterator >= third and iterator <= (third*2)):\n",
    "        politics_df.loc[iterator, 'percentile'] = 2\n",
    "    if(iterator > (third*2)):\n",
    "        politics_df.loc[iterator, 'percentile'] = 3\n",
    "    iterator = iterator + 1"
   ]
  },
  {
   "cell_type": "code",
   "execution_count": 69,
   "metadata": {},
   "outputs": [
    {
     "name": "stdout",
     "output_type": "stream",
     "text": [
      "1\n",
      "0.4153\n"
     ]
    }
   ],
   "source": [
    "reddit_vec = CountVectorizer(min_df=2, tokenizer=nltk.word_tokenize, lowercase=True, stop_words=fullset)\n",
    "\n",
    "z=0\n",
    "start=0\n",
    "iterator=0\n",
    "while(iterator<(1)):\n",
    "\n",
    "    iterator=iterator+1\n",
    "    print(iterator)\n",
    "    start=start+num_retreive\n",
    "    \n",
    "    y = politics_df['percentile']\n",
    "    \n",
    "    reddit_counts = reddit_vec.fit_transform(politics_df['body'])\n",
    "    tfidf_transformer = TfidfTransformer()\n",
    "    reddit_tfidf = tfidf_transformer.fit_transform(reddit_counts)\n",
    "\n",
    "    X = reddit_tfidf\n",
    "\n",
    "    X_train, X_test, y_train, y_test = train_test_split(X, y, test_size = 0.2, random_state = 0)\n",
    "    \n",
    "    classifier = MultinomialNB().partial_fit(X_train, y_train,classes=np.unique(y_train))\n",
    "    \n",
    "    y_pred = classifier.predict(X_test)\n",
    "\n",
    "    print(accuracy_score(y_test, y_pred))"
   ]
  },
  {
   "cell_type": "code",
   "execution_count": 70,
   "metadata": {
    "scrolled": true
   },
   "outputs": [
    {
     "data": {
      "image/png": "[encoded data removed]",
      "text/plain": [
       "<matplotlib.figure.Figure at 0x67b813c630>"
      ]
     },
     "metadata": {},
     "output_type": "display_data"
    }
   ],
   "source": [
    "cm = confusion_matrix(y_test, y_pred)\n",
    "\n",
    "sns.heatmap(cm.T, square=True, annot=True, fmt='d', cbar=False,\n",
    "            xticklabels=['3','2','1'], \n",
    "            yticklabels=['3','2','1'])\n",
    "plt.xlabel('true label')\n",
    "plt.ylabel('predicted label')\n",
    "plt.show()"
   ]
  },
  {
   "cell_type": "code",
   "execution_count": 71,
   "metadata": {
    "collapsed": true
   },
   "outputs": [],
   "source": [
    "temp_df = return_top100_score(reddit_vec, classifier, class_labels=np.unique(y_train))\n",
    "temp_df.to_csv(\"csv_files\\politics_top_unigrams.csv\")"
   ]
  },
  {
   "cell_type": "code",
   "execution_count": 72,
   "metadata": {},
   "outputs": [
    {
     "name": "stdout",
     "output_type": "stream",
     "text": [
      "1\n",
      "0.4294\n"
     ]
    }
   ],
   "source": [
    "reddit_vec = CountVectorizer(ngram_range=(2,2), min_df=2, tokenizer=nltk.word_tokenize, lowercase=True, stop_words=fullset)\n",
    "\n",
    "z=0\n",
    "start=0\n",
    "iterator=0\n",
    "while(iterator<(1)):\n",
    "\n",
    "    iterator=iterator+1\n",
    "    print(iterator)\n",
    "    start=start+num_retreive\n",
    "    \n",
    "    y = politics_df['percentile']\n",
    "    \n",
    "    reddit_counts = reddit_vec.fit_transform(politics_df['body'])\n",
    "    tfidf_transformer = TfidfTransformer()\n",
    "    reddit_tfidf = tfidf_transformer.fit_transform(reddit_counts)\n",
    "\n",
    "    X = reddit_tfidf\n",
    "\n",
    "    X_train, X_test, y_train, y_test = train_test_split(X, y, test_size = 0.2, random_state = 0)\n",
    "    \n",
    "    classifier = MultinomialNB().partial_fit(X_train, y_train,classes=np.unique(y_train))\n",
    "    \n",
    "    y_pred = classifier.predict(X_test)\n",
    "\n",
    "    print(accuracy_score(y_test, y_pred))"
   ]
  },
  {
   "cell_type": "code",
   "execution_count": 73,
   "metadata": {
    "scrolled": true
   },
   "outputs": [
    {
     "data": {
      "image/png": "[encoded data removed]",
      "text/plain": [
       "<matplotlib.figure.Figure at 0x67b4e7e048>"
      ]
     },
     "metadata": {},
     "output_type": "display_data"
    }
   ],
   "source": [
    "cm = confusion_matrix(y_test, y_pred)\n",
    "\n",
    "sns.heatmap(cm.T, square=True, annot=True, fmt='d', cbar=False,\n",
    "            xticklabels=['3','2','1'], \n",
    "            yticklabels=['3','2','1'])\n",
    "plt.xlabel('true label')\n",
    "plt.ylabel('predicted label')\n",
    "plt.show()"
   ]
  },
  {
   "cell_type": "code",
   "execution_count": 74,
   "metadata": {
    "collapsed": true
   },
   "outputs": [],
   "source": [
    "temp_df = return_top100_score(reddit_vec, classifier, class_labels=np.unique(y_train))\n",
    "temp_df.to_csv(\"csv_files\\politics_top_bigrams.csv\")"
   ]
  },
  {
   "cell_type": "code",
   "execution_count": 75,
   "metadata": {
    "collapsed": true
   },
   "outputs": [],
   "source": [
    "worldnews_df = reddit_df[reddit_df.subreddit == 'worldnews']\n",
    "worldnews_df = worldnews_df.sort_values(['score'])\n",
    "worldnews_df = worldnews_df.reset_index(drop=True)\n",
    "\n",
    "third = (len(worldnews_df)/3)\n",
    "iterator = 0\n",
    "for x in worldnews_df.percentile:\n",
    "    if(iterator < third):\n",
    "        worldnews_df.loc[iterator, 'percentile'] = 1\n",
    "    if(iterator >= third and iterator <= (third*2)):\n",
    "        worldnews_df.loc[iterator, 'percentile'] = 2\n",
    "    if(iterator > (third*2)):\n",
    "        worldnews_df.loc[iterator, 'percentile'] = 3\n",
    "    iterator = iterator + 1"
   ]
  },
  {
   "cell_type": "code",
   "execution_count": 76,
   "metadata": {},
   "outputs": [
    {
     "name": "stdout",
     "output_type": "stream",
     "text": [
      "1\n",
      "0.4022\n"
     ]
    }
   ],
   "source": [
    "reddit_vec = CountVectorizer(min_df=2, tokenizer=nltk.word_tokenize, lowercase=True, stop_words=fullset)\n",
    "\n",
    "z=0\n",
    "start=0\n",
    "iterator=0\n",
    "while(iterator<(1)):\n",
    "\n",
    "    iterator=iterator+1\n",
    "    print(iterator)\n",
    "    start=start+num_retreive\n",
    "    \n",
    "    y = worldnews_df['percentile']\n",
    "    \n",
    "    reddit_counts = reddit_vec.fit_transform(worldnews_df['body'])\n",
    "    tfidf_transformer = TfidfTransformer()\n",
    "    reddit_tfidf = tfidf_transformer.fit_transform(reddit_counts)\n",
    "\n",
    "    X = reddit_tfidf\n",
    "\n",
    "    X_train, X_test, y_train, y_test = train_test_split(X, y, test_size = 0.2, random_state = 0)\n",
    "    \n",
    "    classifier = MultinomialNB().partial_fit(X_train, y_train,classes=np.unique(y_train))\n",
    "    \n",
    "    y_pred = classifier.predict(X_test)\n",
    "\n",
    "    print(accuracy_score(y_test, y_pred))"
   ]
  },
  {
   "cell_type": "code",
   "execution_count": 77,
   "metadata": {
    "scrolled": true
   },
   "outputs": [
    {
     "data": {
      "image/png": "[encoded data removed]",
      "text/plain": [
       "<matplotlib.figure.Figure at 0x67b5d4dac8>"
      ]
     },
     "metadata": {},
     "output_type": "display_data"
    }
   ],
   "source": [
    "cm = confusion_matrix(y_test, y_pred)\n",
    "\n",
    "sns.heatmap(cm.T, square=True, annot=True, fmt='d', cbar=False,\n",
    "            xticklabels=['3','2','1'], \n",
    "            yticklabels=['3','2','1'])\n",
    "plt.xlabel('true label')\n",
    "plt.ylabel('predicted label')\n",
    "plt.show()"
   ]
  },
  {
   "cell_type": "code",
   "execution_count": 78,
   "metadata": {
    "collapsed": true
   },
   "outputs": [],
   "source": [
    "temp_df = return_top100_score(reddit_vec, classifier, class_labels=np.unique(y_train))\n",
    "temp_df.to_csv(\"csv_files\\worldnews_top_unigrams.csv\")"
   ]
  },
  {
   "cell_type": "code",
   "execution_count": 79,
   "metadata": {},
   "outputs": [
    {
     "name": "stdout",
     "output_type": "stream",
     "text": [
      "1\n",
      "0.3884\n"
     ]
    }
   ],
   "source": [
    "reddit_vec = CountVectorizer(ngram_range=(2,2), min_df=2, tokenizer=nltk.word_tokenize, lowercase=True, stop_words=fullset)\n",
    "\n",
    "z=0\n",
    "start=0\n",
    "iterator=0\n",
    "while(iterator<(1)):\n",
    "\n",
    "    iterator=iterator+1\n",
    "    print(iterator)\n",
    "    start=start+num_retreive\n",
    "    \n",
    "    y = worldnews_df['percentile']\n",
    "    \n",
    "    reddit_counts = reddit_vec.fit_transform(worldnews_df['body'])\n",
    "    tfidf_transformer = TfidfTransformer()\n",
    "    reddit_tfidf = tfidf_transformer.fit_transform(reddit_counts)\n",
    "\n",
    "    X = reddit_tfidf\n",
    "\n",
    "    X_train, X_test, y_train, y_test = train_test_split(X, y, test_size = 0.2, random_state = 0)\n",
    "    \n",
    "    classifier = MultinomialNB().partial_fit(X_train, y_train,classes=np.unique(y_train))\n",
    "    \n",
    "    y_pred = classifier.predict(X_test)\n",
    "\n",
    "    print(accuracy_score(y_test, y_pred))"
   ]
  },
  {
   "cell_type": "code",
   "execution_count": 80,
   "metadata": {},
   "outputs": [
    {
     "data": {
      "image/png": "[encoded data removed]",
      "text/plain": [
       "<matplotlib.figure.Figure at 0x67b23a0f28>"
      ]
     },
     "metadata": {},
     "output_type": "display_data"
    }
   ],
   "source": [
    "cm = confusion_matrix(y_test, y_pred)\n",
    "\n",
    "sns.heatmap(cm.T, square=True, annot=True, fmt='d', cbar=False,\n",
    "            xticklabels=['3','2','1'], \n",
    "            yticklabels=['3','2','1'])\n",
    "plt.xlabel('true label')\n",
    "plt.ylabel('predicted label')\n",
    "plt.show()"
   ]
  },
  {
   "cell_type": "code",
   "execution_count": 81,
   "metadata": {},
   "outputs": [],
   "source": [
    "temp_df = return_top100_score(reddit_vec, classifier, class_labels=np.unique(y_train))\n",
    "temp_df.to_csv(\"csv_files\\worldnews_top_bigrams.csv\")"
   ]
  }
 ],
 "metadata": {
  "kernelspec": {
   "display_name": "Python 3",
   "language": "python",
   "name": "python3"
  },
  "language_info": {
   "codemirror_mode": {
    "name": "ipython",
    "version": 3
   },
   "file_extension": ".py",
   "mimetype": "text/x-python",
   "name": "python",
   "nbconvert_exporter": "python",
   "pygments_lexer": "ipython3",
   "version": "3.6.1"
  }
 },
 "nbformat": 4,
 "nbformat_minor": 2
}
